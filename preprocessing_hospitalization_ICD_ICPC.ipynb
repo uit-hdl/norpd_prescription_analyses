{
 "cells": [
  {
   "cell_type": "code",
   "execution_count": 1,
   "metadata": {},
   "outputs": [
    {
     "data": {
      "text/plain": [
       "Intitializing Scala interpreter ..."
      ]
     },
     "metadata": {},
     "output_type": "display_data"
    },
    {
     "data": {
      "text/plain": [
       "Spark Web UI available at http://localhost:4040\n",
       "SparkContext available as 'sc' (version = 2.3.2, master = local[*], app id = local-1543768391077)\n",
       "SparkSession available as 'spark'\n"
      ]
     },
     "metadata": {},
     "output_type": "display_data"
    },
    {
     "data": {
      "text/plain": [
       "res0: org.apache.spark.sql.SparkSession = org.apache.spark.sql.SparkSession@71062fdb\n"
      ]
     },
     "execution_count": 1,
     "metadata": {},
     "output_type": "execute_result"
    }
   ],
   "source": [
    "spark"
   ]
  },
  {
   "cell_type": "code",
   "execution_count": 2,
   "metadata": {},
   "outputs": [
    {
     "name": "stdout",
     "output_type": "stream",
     "text": [
      "root\n",
      " |-- ForskriverLopeNr: string (nullable = true)\n",
      " |-- ForskriverFodtAr: string (nullable = true)\n",
      " |-- ForskriverKjonn: string (nullable = true)\n",
      " |-- ForskriverUtenID: string (nullable = true)\n",
      " |-- PasientLopeNr: string (nullable = true)\n",
      " |-- PasientFodtAr: string (nullable = true)\n",
      " |-- PasientKjonn: string (nullable = true)\n",
      " |-- PasientBostedFylkeNr: string (nullable = true)\n",
      " |-- PasientBostedFylkeNavn: string (nullable = true)\n",
      " |-- PasientDodsAr: string (nullable = true)\n",
      " |-- PasientDodsMnd: string (nullable = true)\n",
      " |-- PasientUtenID: string (nullable = true)\n",
      " |-- Diff_UtleveringDato: string (nullable = true)\n",
      " |-- UtleveringsAar: string (nullable = true)\n",
      " |-- UtleveringsDato: string (nullable = true)\n",
      " |-- OrdinasjonAntallPakninger: string (nullable = true)\n",
      " |-- OrdinasjonAntallDDD: string (nullable = true)\n",
      " |-- Kategori: string (nullable = true)\n",
      " |-- KategoriNr: string (nullable = true)\n",
      " |-- Hjemmel: string (nullable = true)\n",
      " |-- HjemmelNr: string (nullable = true)\n",
      " |-- RefusjonKodeICDNr: string (nullable = true)\n",
      " |-- RefusjonKodeICPCNr: string (nullable = true)\n",
      " |-- VareNr: string (nullable = true)\n",
      " |-- VareNavn: string (nullable = true)\n",
      " |-- ATCKode: string (nullable = true)\n",
      " |-- ATCKodeDDDVerdi: string (nullable = true)\n",
      " |-- ATCKodeDDDEnhet: string (nullable = true)\n",
      "\n"
     ]
    },
    {
     "data": {
      "text/plain": [
       "rawHospitalization: org.apache.spark.sql.DataFrame = [ForskriverLopeNr: string, ForskriverFodtAr: string ... 26 more fields]\n"
      ]
     },
     "execution_count": 2,
     "metadata": {},
     "output_type": "execute_result"
    }
   ],
   "source": [
    "val rawHospitalization = spark.read\n",
    "    .option(\"header\",\"true\")\n",
    "    .option(\"delimiter\",\";\")\n",
    "    .csv(\"datasets/hospitalization\")\n",
    "rawHospitalization.printSchema"
   ]
  },
  {
   "cell_type": "code",
   "execution_count": 8,
   "metadata": {},
   "outputs": [
    {
     "data": {
      "text/plain": [
       "res7: Long = 404\n"
      ]
     },
     "execution_count": 8,
     "metadata": {},
     "output_type": "execute_result"
    }
   ],
   "source": [
    "val ICD_ICPC= rawHospitalization.select(\"RefusjonKodeICDNr\", \"RefusjonKodeICPCNr\")\n",
    "    .cache()\n",
    "\n",
    "ICD_ICPC\n",
    "    .select($\"RefusjonKodeICDNr\".as(\"icd\"))\n",
    "    .distinct\n",
    "    .count"
   ]
  },
  {
   "cell_type": "code",
   "execution_count": 9,
   "metadata": {},
   "outputs": [
    {
     "data": {
      "text/plain": [
       "res8: Long = 167\n"
      ]
     },
     "execution_count": 9,
     "metadata": {},
     "output_type": "execute_result"
    }
   ],
   "source": [
    "ICD_ICPC\n",
    "    .select($\"RefusjonKodeICPCNr\".as(\"icpc\"))\n",
    "    .distinct\n",
    "    .count"
   ]
  },
  {
   "cell_type": "code",
   "execution_count": 14,
   "metadata": {},
   "outputs": [
    {
     "name": "stdout",
     "output_type": "stream",
     "text": [
      "+-----------------+------------------+\n",
      "|RefusjonKodeICDNr|RefusjonKodeICPCNr|\n",
      "+-----------------+------------------+\n",
      "|H40              |null              |\n",
      "|E87.6            |null              |\n",
      "|-26              |null              |\n",
      "|J44              |null              |\n",
      "|H40              |null              |\n",
      "|K72              |null              |\n",
      "|H40              |null              |\n",
      "|-30              |null              |\n",
      "|-27              |null              |\n",
      "|G20              |null              |\n",
      "+-----------------+------------------+\n",
      "only showing top 10 rows\n",
      "\n"
     ]
    }
   ],
   "source": [
    "ICD_ICPC\n",
    "    .where(\"RefusjonKodeICDNr is not null\")\n",
    "    .show(10,false)"
   ]
  },
  {
   "cell_type": "code",
   "execution_count": 15,
   "metadata": {},
   "outputs": [
    {
     "name": "stdout",
     "output_type": "stream",
     "text": [
      "+-----------------+------------------+\n",
      "|RefusjonKodeICDNr|RefusjonKodeICPCNr|\n",
      "+-----------------+------------------+\n",
      "|null             |T99               |\n",
      "|null             |-26               |\n",
      "|null             |R95               |\n",
      "|null             |U71               |\n",
      "|null             |-27               |\n",
      "|null             |D84               |\n",
      "|null             |K86               |\n",
      "|null             |D84               |\n",
      "|null             |R96               |\n",
      "|null             |K86               |\n",
      "+-----------------+------------------+\n",
      "only showing top 10 rows\n",
      "\n"
     ]
    }
   ],
   "source": [
    "ICD_ICPC\n",
    "    .where(\"RefusjonKodeICPCNr is not null\")\n",
    "    .show(10,false)"
   ]
  },
  {
   "cell_type": "code",
   "execution_count": null,
   "metadata": {},
   "outputs": [],
   "source": []
  }
 ],
 "metadata": {
  "kernelspec": {
   "display_name": "spylon-kernel",
   "language": "scala",
   "name": "spylon-kernel"
  },
  "language_info": {
   "codemirror_mode": "text/x-scala",
   "file_extension": ".scala",
   "help_links": [
    {
     "text": "MetaKernel Magics",
     "url": "https://github.com/calysto/metakernel/blob/master/metakernel/magics/README.md"
    }
   ],
   "mimetype": "text/x-scala",
   "name": "scala",
   "pygments_lexer": "scala",
   "version": "0.4.1"
  }
 },
 "nbformat": 4,
 "nbformat_minor": 2
}
