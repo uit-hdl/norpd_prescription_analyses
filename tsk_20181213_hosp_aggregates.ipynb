{
 "cells": [
  {
   "cell_type": "code",
   "execution_count": 2,
   "metadata": {},
   "outputs": [
    {
     "data": {
      "text/plain": [
       "res1: org.apache.spark.sql.SparkSession = org.apache.spark.sql.SparkSession@752c4a04\n"
      ]
     },
     "execution_count": 2,
     "metadata": {},
     "output_type": "execute_result"
    }
   ],
   "source": [
    "spark"
   ]
  },
  {
   "cell_type": "code",
   "execution_count": 3,
   "metadata": {},
   "outputs": [],
   "source": [
    "%run \"src/scala/register_tables.scala\""
   ]
  },
  {
   "cell_type": "code",
   "execution_count": 4,
   "metadata": {},
   "outputs": [
    {
     "name": "stdout",
     "output_type": "stream",
     "text": [
      "===Prescription dataset===\n",
      "registering patients\n",
      "registering prescriptions\n",
      "registering drugs\n",
      "ok\n",
      "===Hospitalization dataset===\n",
      "registering raw\n",
      "registering patients\n",
      "registering prescriptions\n",
      "registering drugs\n",
      "ok\n",
      "+--------+-----------------------------+-----------+\n",
      "|database|tableName                    |isTemporary|\n",
      "+--------+-----------------------------+-----------+\n",
      "|        |hospitalization              |true       |\n",
      "|        |hospitalization_drugs        |true       |\n",
      "|        |hospitalization_patients     |true       |\n",
      "|        |hospitalization_prescriptions|true       |\n",
      "|        |prescription_drugs           |true       |\n",
      "|        |prescription_patients        |true       |\n",
      "|        |prescription_prescriptions   |true       |\n",
      "+--------+-----------------------------+-----------+\n",
      "\n",
      "done!\n"
     ]
    }
   ],
   "source": [
    "register_tables(spark,\"spark-warehouse/\")"
   ]
  },
  {
   "cell_type": "code",
   "execution_count": 5,
   "metadata": {},
   "outputs": [
    {
     "data": {
      "text/plain": [
       "res3: Long = 765640\n"
      ]
     },
     "execution_count": 5,
     "metadata": {},
     "output_type": "execute_result"
    }
   ],
   "source": [
    "spark.sql(\"select * from hospitalization_patients\").count"
   ]
  },
  {
   "cell_type": "code",
   "execution_count": 6,
   "metadata": {},
   "outputs": [
    {
     "data": {
      "text/plain": [
       "res4: Long = 5280632\n"
      ]
     },
     "execution_count": 6,
     "metadata": {},
     "output_type": "execute_result"
    }
   ],
   "source": [
    "spark.sql(\"select * from prescription_patients\").count"
   ]
  },
  {
   "cell_type": "code",
   "execution_count": 16,
   "metadata": {},
   "outputs": [
    {
     "data": {
      "text/plain": [
       "res14: Long = 133189\n"
      ]
     },
     "execution_count": 16,
     "metadata": {},
     "output_type": "execute_result"
    }
   ],
   "source": [
    "spark.sql(\"select * from hospitalization_patients\").distinct.select(\"year_of_death\").where(\"year_of_death is not null\").count"
   ]
  },
  {
   "cell_type": "code",
   "execution_count": 19,
   "metadata": {},
   "outputs": [
    {
     "data": {
      "text/plain": [
       "res17: Long = 632451\n"
      ]
     },
     "execution_count": 19,
     "metadata": {},
     "output_type": "execute_result"
    }
   ],
   "source": [
    "spark.sql(\"select * from hospitalization_patients\").distinct.select(\"year_of_death\").where(\"year_of_death is null\").count"
   ]
  },
  {
   "cell_type": "code",
   "execution_count": 24,
   "metadata": {},
   "outputs": [
    {
     "name": "stdout",
     "output_type": "stream",
     "text": [
      "+-------------+-----+\n",
      "|year_of_death|count|\n",
      "+-------------+-----+\n",
      "|         2004|    1|\n",
      "|         2005|    5|\n",
      "|         2006|    1|\n",
      "|         2007|    3|\n",
      "|         2009|    1|\n",
      "|         2010|    7|\n",
      "|         2011|   10|\n",
      "|         2012|  159|\n",
      "|         2013|24315|\n",
      "|         2014|26839|\n",
      "|         2015|28523|\n",
      "|         2016|29312|\n",
      "|         2017|24013|\n",
      "+-------------+-----+\n",
      "\n"
     ]
    }
   ],
   "source": [
    "spark.sql(\"select * from hospitalization_patients\").distinct.select(\"year_of_death\").where(\"year_of_death is not null\").groupBy(\"year_of_death\").count.sort(col(\"year_of_death\")).show"
   ]
  },
  {
   "cell_type": "code",
   "execution_count": null,
   "metadata": {},
   "outputs": [],
   "source": []
  }
 ],
 "metadata": {
  "kernelspec": {
   "display_name": "spylon-kernel",
   "language": "scala",
   "name": "spylon-kernel"
  },
  "language_info": {
   "codemirror_mode": "text/x-scala",
   "file_extension": ".scala",
   "help_links": [
    {
     "text": "MetaKernel Magics",
     "url": "https://github.com/calysto/metakernel/blob/master/metakernel/magics/README.md"
    }
   ],
   "mimetype": "text/x-scala",
   "name": "scala",
   "pygments_lexer": "scala",
   "version": "0.4.1"
  }
 },
 "nbformat": 4,
 "nbformat_minor": 2
}
