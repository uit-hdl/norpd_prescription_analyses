{
 "cells": [
  {
   "cell_type": "markdown",
   "metadata": {},
   "source": [
    "## This notebook ended up more as an analysis than preprocessing"
   ]
  },
  {
   "cell_type": "code",
   "execution_count": 1,
   "metadata": {},
   "outputs": [
    {
     "data": {
      "text/plain": [
       "Intitializing Scala interpreter ..."
      ]
     },
     "metadata": {},
     "output_type": "display_data"
    },
    {
     "data": {
      "text/plain": [
       "Spark Web UI available at http://localhost:4043\n",
       "SparkContext available as 'sc' (version = 2.3.2, master = local[*], app id = local-1549980138664)\n",
       "SparkSession available as 'spark'\n"
      ]
     },
     "metadata": {},
     "output_type": "display_data"
    },
    {
     "name": "stdout",
     "output_type": "stream",
     "text": [
      "2019-02-12 15:02:16 WARN  NativeCodeLoader:62 - Unable to load native-hadoop library for your platform... using builtin-java classes where applicable\n",
      "2019-02-12 15:02:18 WARN  Utils:66 - Service 'SparkUI' could not bind on port 4040. Attempting port 4041.\n",
      "2019-02-12 15:02:18 WARN  Utils:66 - Service 'SparkUI' could not bind on port 4041. Attempting port 4042.\n",
      "2019-02-12 15:02:18 WARN  Utils:66 - Service 'SparkUI' could not bind on port 4042. Attempting port 4043.\n"
     ]
    },
    {
     "data": {
      "text/plain": [
       "res0: org.apache.spark.sql.SparkSession = org.apache.spark.sql.SparkSession@602e2208\n"
      ]
     },
     "execution_count": 1,
     "metadata": {},
     "output_type": "execute_result"
    }
   ],
   "source": [
    "spark"
   ]
  },
  {
   "cell_type": "code",
   "execution_count": 2,
   "metadata": {
    "scrolled": true
   },
   "outputs": [],
   "source": [
    "%run \"src/scala/register_tables.scala\""
   ]
  },
  {
   "cell_type": "code",
   "execution_count": 3,
   "metadata": {},
   "outputs": [],
   "source": [
    "%%python\n",
    "import matplotlib.pyplot as plt\n",
    "from src.python.helpers import plotfig_magic\n",
    "import pandas as pd\n",
    "import numpy as np\n",
    "from IPython.display import Image\n",
    "import tempfile"
   ]
  },
  {
   "cell_type": "code",
   "execution_count": 4,
   "metadata": {},
   "outputs": [
    {
     "name": "stdout",
     "output_type": "stream",
     "text": [
      "===Prescription dataset===\n",
      "registering patients\n",
      "registering prescriptions\n",
      "registering drugs\n",
      "ok!\n",
      "Warning: This function will be deprecated soon\n",
      "Use register_elders() instead\n",
      "register_hospitalization() will later be used to register the hospitalized portion of the elders dataset\n",
      "===Hospitalization dataset===\n",
      "registering all\n",
      "registering patients\n",
      "registering prescriptions\n",
      "registering drugs\n",
      "ok!\n",
      "===NPR Elders===\n",
      "ok!\n",
      "+--------+--------------------------+-----------+\n",
      "|database|tableName                 |isTemporary|\n",
      "+--------+--------------------------+-----------+\n",
      "|        |elders                    |true       |\n",
      "|        |elders_drugs              |true       |\n",
      "|        |elders_patients           |true       |\n",
      "|        |elders_prescriptions      |true       |\n",
      "|        |npr_elders                |true       |\n",
      "|        |prescription_drugs        |true       |\n",
      "|        |prescription_patients     |true       |\n",
      "|        |prescription_prescriptions|true       |\n",
      "+--------+--------------------------+-----------+\n",
      "\n",
      "done!\n"
     ]
    },
    {
     "data": {
      "text/plain": [
       "import spark.implicits._\n"
      ]
     },
     "execution_count": 4,
     "metadata": {},
     "output_type": "execute_result"
    }
   ],
   "source": [
    "import spark.implicits._\n",
    "register_tables(spark,\"spark-warehouse/\")"
   ]
  },
  {
   "cell_type": "markdown",
   "metadata": {},
   "source": [
    "## Preprocessing the hospitalization data set\n",
    " The following steps need to be implemented"
   ]
  },
  {
   "cell_type": "markdown",
   "metadata": {},
   "source": [
    "#### Separate the three types of data"
   ]
  },
  {
   "cell_type": "code",
   "execution_count": 7,
   "metadata": {},
   "outputs": [
    {
     "data": {
      "text/plain": [
       "elders: org.apache.spark.sql.DataFrame = [id: string, birthyear: int ... 21 more fields]\n",
       "elders_with_diffdate: org.apache.spark.sql.Dataset[org.apache.spark.sql.Row] = [id: string, birthyear: int ... 21 more fields]\n",
       "elders_dated_with_death: org.apache.spark.sql.Dataset[org.apache.spark.sql.Row] = [id: string, birthyear: int ... 21 more fields]\n",
       "elders_dated_alive: org.apache.spark.sql.Dataset[org.apache.spark.sql.Row] = [id: string, birthyear: int ... 21 more fields]\n",
       "res4: org.apache.spark.sql.DataFrame = [id: string, birthyear: int ... 21 more fields]\n"
      ]
     },
     "execution_count": 7,
     "metadata": {},
     "output_type": "execute_result"
    }
   ],
   "source": [
    "val elders = spark.sql(\"select * from elders\")\n",
    "val elders_with_diffdate = elders\n",
    "    .where(\"Diff_UtleveringDato is not null\")\n",
    "val elders_dated_with_death = elders\n",
    "    .where(\"timestamp is not null\")\n",
    "    .where(\"death_timestamp is not null\")\n",
    "val elders_dated_alive = elders\n",
    "    .where(\"timestamp is not null\")\n",
    "    .where(\"death_timestamp is null\")\n",
    "elders\n",
    "    /*.select(\n",
    "        \"id\"\n",
    "        ,\"birthyear\"\n",
    "        ,\"gender\"\n",
    "        ,\"timestamp\"\n",
    "        ,\"Diff_UtleveringDato\"\n",
    "        ,\"drugcode\"\n",
    "    )*/"
   ]
  },
  {
   "cell_type": "markdown",
   "metadata": {},
   "source": [
    "#### We need prescriptions grouped by the patient ID, ordered by time"
   ]
  },
  {
   "cell_type": "markdown",
   "metadata": {},
   "source": [
    "## Small digression: to better know the population we are working with\n",
    "### Plot the age distribution of patients in the data"
   ]
  },
  {
   "cell_type": "code",
   "execution_count": 8,
   "metadata": {},
   "outputs": [
    {
     "data": {
      "text/plain": [
       "total_patients: Long = 765431\n"
      ]
     },
     "execution_count": 8,
     "metadata": {},
     "output_type": "execute_result"
    }
   ],
   "source": [
    "val total_patients = elders.select(\"id\").distinct.count"
   ]
  },
  {
   "cell_type": "code",
   "execution_count": 9,
   "metadata": {},
   "outputs": [
    {
     "data": {
      "text/plain": [
       "toAgeIn2012: Int => Int = <function1>\n",
       "simplifiedAge: org.apache.spark.sql.expressions.UserDefinedFunction = UserDefinedFunction(<function1>,IntegerType,Some(List(IntegerType)))\n"
      ]
     },
     "execution_count": 9,
     "metadata": {},
     "output_type": "execute_result"
    }
   ],
   "source": [
    "val toAgeIn2012:Int=>Int = 2012-_\n",
    "val simplifiedAge = udf(toAgeIn2012)\n",
    "elders\n",
    "    .select(\"id\",\"birthyear\")\n",
    "    .distinct\n",
    "    .select(\"birthyear\")\n",
    "    .withColumn(\"age\",simplifiedAge('birthyear))\n",
    "    .select(\"age\").groupBy(\"age\").count.sort(asc(\"age\"))\n",
    "    .createOrReplaceTempView(\"agedistr\")"
   ]
  },
  {
   "cell_type": "code",
   "execution_count": 10,
   "metadata": {},
   "outputs": [],
   "source": [
    "%%python\n",
    "df = spark.sql(\"select * from agedistr where age > 60\").toPandas()"
   ]
  },
  {
   "cell_type": "code",
   "execution_count": 11,
   "metadata": {},
   "outputs": [
    {
     "data": {
      "image/png": "[encoded data removed]",
      "text/plain": [
       "<IPython.core.display.Image object>"
      ]
     },
     "execution_count": 11,
     "metadata": {},
     "output_type": "execute_result"
    }
   ],
   "source": [
    "%%python\n",
    "plt.clf()\n",
    "plt.title(\"Dataset population by age\")\n",
    "\n",
    "df.plot(x=\"age\",y=\"count\")\n",
    "retval=plotfig_magic()"
   ]
  },
  {
   "cell_type": "markdown",
   "metadata": {},
   "source": [
    "### We observe approximately the same numbers in these age groups from SSB\n",
    "![Norwegian population distribution](https://www.ssb.no/_image/343717/label/)\n",
    "Source: https://www.ssb.no/en/befolkning/nokkeltall/population"
   ]
  },
  {
   "cell_type": "markdown",
   "metadata": {},
   "source": [
    "## Average prescriptions per patient in span of hospitalization dataset: 80"
   ]
  },
  {
   "cell_type": "code",
   "execution_count": 13,
   "metadata": {},
   "outputs": [
    {
     "data": {
      "text/plain": [
       "res7: Long = 78\n"
      ]
     },
     "execution_count": 13,
     "metadata": {},
     "output_type": "execute_result"
    }
   ],
   "source": [
    "elders.count/total_patients"
   ]
  },
  {
   "cell_type": "markdown",
   "metadata": {},
   "source": [
    "### Distribution in number of drugs received"
   ]
  },
  {
   "cell_type": "code",
   "execution_count": 14,
   "metadata": {},
   "outputs": [],
   "source": [
    "elders\n",
    "    .select(\"id\")\n",
    "    .groupBy(\"id\")\n",
    "    .count\n",
    "    .sort(desc(\"count\"))\n",
    "    .createOrReplaceTempView(\"t1\")"
   ]
  },
  {
   "cell_type": "code",
   "execution_count": 15,
   "metadata": {},
   "outputs": [],
   "source": [
    "%%python\n",
    "df = spark.sql(\"select * from t1\").toPandas()"
   ]
  },
  {
   "cell_type": "code",
   "execution_count": 16,
   "metadata": {
    "scrolled": false
   },
   "outputs": [
    {
     "data": {
      "image/png": "[encoded data removed]",
      "text/plain": [
       "<IPython.core.display.Image object>"
      ]
     },
     "execution_count": 16,
     "metadata": {},
     "output_type": "execute_result"
    }
   ],
   "source": [
    "%%python\n",
    "plt.clf()\n",
    "plt.title(\"distribution of prescriptions by patient (from patient with most to least prescriptions)\")\n",
    "df[:4000].plot(x=\"id\",y=\"count\")\n",
    "retval=plotfig_magic()"
   ]
  },
  {
   "cell_type": "code",
   "execution_count": 17,
   "metadata": {},
   "outputs": [
    {
     "name": "stdout",
     "output_type": "stream",
     "text": [
      "78.23955253121572\n"
     ]
    }
   ],
   "source": [
    "%%python\n",
    "total_patients = 765640\n",
    "skipprior = 0\n",
    "skipafter = total_patients-0\n",
    "tsum = df[\"count\"][skipprior:skipafter].sum()\n",
    "mean = tsum/(skipafter-skipprior)\n",
    "print(mean)"
   ]
  },
  {
   "cell_type": "code",
   "execution_count": null,
   "metadata": {},
   "outputs": [],
   "source": []
  },
  {
   "cell_type": "code",
   "execution_count": null,
   "metadata": {},
   "outputs": [],
   "source": []
  }
 ],
 "metadata": {
  "kernelspec": {
   "display_name": "spylon-kernel",
   "language": "scala",
   "name": "spylon-kernel"
  },
  "language_info": {
   "codemirror_mode": "text/x-scala",
   "file_extension": ".scala",
   "help_links": [
    {
     "text": "MetaKernel Magics",
     "url": "https://github.com/calysto/metakernel/blob/master/metakernel/magics/README.md"
    }
   ],
   "mimetype": "text/x-scala",
   "name": "scala",
   "pygments_lexer": "scala",
   "version": "0.4.1"
  }
 },
 "nbformat": 4,
 "nbformat_minor": 2
}
