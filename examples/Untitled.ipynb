{
 "cells": [
  {
   "cell_type": "code",
   "execution_count": 1,
   "metadata": {},
   "outputs": [
    {
     "data": {
      "text/plain": [
       "Intitializing Scala interpreter ..."
      ]
     },
     "metadata": {},
     "output_type": "display_data"
    },
    {
     "data": {
      "text/plain": [
       "Spark Web UI available at http://localhost:4043\n",
       "SparkContext available as 'sc' (version = 2.3.2, master = local[*], app id = local-1559038530594)\n",
       "SparkSession available as 'spark'\n"
      ]
     },
     "metadata": {},
     "output_type": "display_data"
    },
    {
     "data": {
      "text/plain": [
       "res0: org.apache.spark.sql.SparkSession = org.apache.spark.sql.SparkSession@7e6bcbc\n"
      ]
     },
     "execution_count": 1,
     "metadata": {},
     "output_type": "execute_result"
    }
   ],
   "source": [
    "spark"
   ]
  },
  {
   "cell_type": "code",
   "execution_count": 2,
   "metadata": {},
   "outputs": [],
   "source": [
    "%%python\n",
    "from pyspark.ml.linalg import Vectors\n",
    "import numpy as np"
   ]
  },
  {
   "cell_type": "code",
   "execution_count": 3,
   "metadata": {},
   "outputs": [],
   "source": [
    "%%python\n",
    "# Load MNIST\n",
    "import tensorflow as tf\n",
    "mnist = tf.keras.datasets.mnist\n",
    "\n",
    "(x_train, y_train),(x_test, y_test) = mnist.load_data()\n",
    "x_train, x_test = x_train / 255.0, x_test / 255.0\n",
    "#print(x_train.shape, x_test.shape)\n",
    "x_train=x_train.flatten().reshape(60000, 28*28)\n",
    "x_test=x_test.flatten().reshape(10000, 28*28)\n",
    "y_train=y_train.flatten().reshape(60000, 1)\n",
    "y_test=y_test.flatten().reshape(10000, 1)"
   ]
  },
  {
   "cell_type": "code",
   "execution_count": 4,
   "metadata": {},
   "outputs": [
    {
     "data": {
      "text/plain": [
       "(60000, 784)"
      ]
     },
     "execution_count": 4,
     "metadata": {},
     "output_type": "execute_result"
    }
   ],
   "source": [
    "%%python\n",
    "x_train.shape"
   ]
  },
  {
   "cell_type": "code",
   "execution_count": 6,
   "metadata": {},
   "outputs": [],
   "source": [
    "%%python\n",
    "y_x_tr = np.hstack([y_train, x_train])\n",
    "dff = map(lambda y_x: (\n",
    "                    int(y_x[0]), Vectors.dense(y_x[1:])\n",
    "                    ),  y_x_tr    \n",
    "         )\n",
    "\n",
    "mnistdf = spark.createDataFrame(dff, schema=[\"label\", \"features\"]).cache()\n",
    "#mnistdf = spark.createDataFrame(, schema=[\"label\", \"features\"])"
   ]
  },
  {
   "cell_type": "code",
   "execution_count": null,
   "metadata": {},
   "outputs": [
    {
     "name": "stdout",
     "output_type": "stream",
     "text": [
      "2019-05-28 12:16:23 WARN  TaskSetManager:66 - Stage 1 contains a task of very large size (49583 KB). The maximum recommended task size is 100 KB.\n"
     ]
    }
   ],
   "source": [
    "%%python\n",
    "mnistdf.take(1)"
   ]
  },
  {
   "cell_type": "code",
   "execution_count": 60,
   "metadata": {},
   "outputs": [
    {
     "name": "stdout",
     "output_type": "stream",
     "text": [
      "(60000, 784)\n",
      "(60000, 1)\n"
     ]
    },
    {
     "ename": "TypeError",
     "evalue": "('only integer scalar arrays can be converted to a scalar index',)",
     "output_type": "error",
     "traceback": [
      "Traceback (most recent call last):",
      "  File \"python cell\", line 3, in <module>",
      "TypeError: only integer scalar arrays can be converted to a scalar index"
     ]
    }
   ],
   "source": [
    "%%python\n",
    "print(x_train.shape)\n",
    "print(y_train.shape)\n",
    "x_y_tr = np.concatenate(x_train, y_train)"
   ]
  },
  {
   "cell_type": "code",
   "execution_count": null,
   "metadata": {},
   "outputs": [],
   "source": []
  },
  {
   "cell_type": "code",
   "execution_count": 25,
   "metadata": {},
   "outputs": [],
   "source": [
    "%%python\n",
    "from sklearn.linear_model import LogisticRegression\n",
    "clf = LogisticRegression()\n",
    "clf.fit(x_train, y_train)"
   ]
  },
  {
   "cell_type": "code",
   "execution_count": 40,
   "metadata": {},
   "outputs": [
    {
     "name": "stdout",
     "output_type": "stream",
     "text": [
      "[[3.72652085e-05 2.05144996e-12 9.79531658e-05 1.64911078e-02\n",
      "  1.65876375e-06 3.25361582e-04 3.54333509e-09 9.82327820e-01\n",
      "  5.20158624e-05 6.66813810e-04]]\n",
      "0.9201\n"
     ]
    }
   ],
   "source": [
    "%%python\n",
    "from sklearn import metrics\n",
    "from sklearn.preprocessing import LabelBinarizer\n",
    "enc = LabelBinarizer()\n",
    "enc.fit(y_test)\n",
    "pred = clf.predict_proba(x_test)\n",
    "pred_cond = enc.inverse_transform(pred)\n",
    "\n",
    "#y_te_exp = enc.transform(y_test)\n",
    "\n",
    "print(pred[:1])\n",
    "print(metrics.accuracy_score(y_test, pred_cond))"
   ]
  },
  {
   "cell_type": "code",
   "execution_count": null,
   "metadata": {},
   "outputs": [],
   "source": [
    "%%python\n",
    "from sklearn."
   ]
  },
  {
   "cell_type": "code",
   "execution_count": null,
   "metadata": {},
   "outputs": [],
   "source": []
  }
 ],
 "metadata": {
  "kernelspec": {
   "display_name": "spylon-kernel",
   "language": "scala",
   "name": "spylon-kernel"
  },
  "language_info": {
   "codemirror_mode": "text/x-scala",
   "file_extension": ".scala",
   "help_links": [
    {
     "text": "MetaKernel Magics",
     "url": "https://github.com/calysto/metakernel/blob/master/metakernel/magics/README.md"
    }
   ],
   "mimetype": "text/x-scala",
   "name": "scala",
   "pygments_lexer": "scala",
   "version": "0.4.1"
  }
 },
 "nbformat": 4,
 "nbformat_minor": 2
}
