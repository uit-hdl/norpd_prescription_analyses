{
 "cells": [
  {
   "cell_type": "markdown",
   "metadata": {},
   "source": [
    "# Preprocessing of the Elders data\n",
    "\n",
    "### Requirements\n",
    "We have to split the original csv-file into multiple tables, using the saveAsTable functionality, the datasets are automatically stored in the \"spark-warehouse\" folder at the base directory\n",
    "\n",
    "#### Cleaning\n",
    "* \n",
    "\n",
    "#### Tables\n",
    "* Prescription dataset, cleaning most of the not-so-relevant variables from the base table\n",
    "\n",
    "#### File structure\n",
    "* Use \"elders/\" as the base directory for new tables\n",
    "    * prescriptions (should they include possible drug descriptions?)\n",
    "    * patients\n",
    "    * prescribers\n",
    "    * drugs\n",
    "\n",
    "### Dataset splits\n"
   ]
  },
  {
   "cell_type": "markdown",
   "metadata": {},
   "source": [
    "# Initialize the spark runtime"
   ]
  },
  {
   "cell_type": "code",
   "execution_count": null,
   "metadata": {
    "scrolled": false
   },
   "outputs": [],
   "source": [
    "import org.apache.spark.sql._\n",
    "import org.apache.spark.sql.functions._\n",
    "import org.apache.spark.sql.types._\n",
    "import spark.implicits._\n",
    "\n",
    "val dsetname = \"elders\"\n",
    "val basedir = \"spark-warehouse/\"+dsetname+\"/\"\n",
    "sc.getConf.getAll\n",
    "\n",
    "val execExtras = false"
   ]
  },
  {
   "cell_type": "markdown",
   "metadata": {},
   "source": [
    "## Open the raw elders dataset\n",
    "#### It needs preprocessing, all fields are Strings, and there's a lot of currently unused information that we discard"
   ]
  },
  {
   "cell_type": "code",
   "execution_count": null,
   "metadata": {},
   "outputs": [],
   "source": [
    "val rawElders = spark.read\n",
    "    .option(\"header\",\"true\")\n",
    "    .option(\"delimiter\",\";\")\n",
    "    .csv(\"datasets/hospitalization\")\n",
    "    .cache()\n",
    "rawElders.printSchema"
   ]
  },
  {
   "cell_type": "code",
   "execution_count": null,
   "metadata": {},
   "outputs": [],
   "source": [
    "if (execExtras){\n",
    "    println(rawElders.count)\n",
    "    println(rawElders.where(\"ATCKode is not null\").where(\"length(ATCKode) == 7\").count)\n",
    "    println()\n",
    "    println(rawElders.where(\"Diff_UtleveringDato is not null\").count)\n",
    "    //println(rawHospitalization.select(\"ATCKode\").where(\"length(ATCKode) == 7\").distinct.count)\n",
    "    //println(rawHospitalization.select(\"ATCKode\").where(\"length(ATCKode) < 7\").distinct.count)\n",
    "    //rawHospitalization.select(\"ATCKode\").where(\"length(ATCKode) < 7\").distinct.show()\n",
    "    //rawHospitalization.select(\"PasientDodsAr\").groupBy(\"PasientDodsAr\").count.show\n",
    "    println()\n",
    "    println(rawElders.where(\"PasientDodsAr is not null\").count)\n",
    "    println(rawElders.where(\"PasientDodsMnd is not null\").count)\n",
    "    println(rawElders.where(\"PasientDodsAr is not null\").where(\"PasientDodsMnd is null\").count)\n",
    "    println()\n",
    "    println(rawElders.where(\"Diff_UtleveringDato is not null\").where(\"PasientDodsAr is null\").count)\n",
    "    println(rawElders.where(\"PasientDodsAr is not null\").where(\"Diff_UtleveringDato is null\").count)\n",
    "    println(rawElders.where(\"Diff_UtleveringDato is not null\").where(\"PasientDodsAr is not null\").count)\n",
    "}else{\n",
    "    print(\"Set to no-print\")\n",
    "}"
   ]
  },
  {
   "cell_type": "markdown",
   "metadata": {},
   "source": [
    "# Info about raw data\n",
    "* ~62M rows (61.930.313) Before cleaning\n",
    "* ~21M rows without (Diff_UtleveringDato) field\n",
    "\n",
    "\n",
    "* 1211 different full (5-level) ATC codes\n",
    "* 62 ATC codes using less than 5 levels\n",
    "\n",
    "\n",
    "* If a prescription contains the deathYear(PasientDodsAr) It will always contain the deathMonth(PasientDodsMnd)\n",
    "    * This means that we dont have to filter out this case\n",
    "\n",
    "\n",
    "### Useful data\n",
    "* ~60M (59.903.331) prescriptions with a full ATC code (with all 5 ATC levels)\n",
    "\n",
    "### Useless data\n",
    "* ~4600 rows containing only patientID (PasientLopeNr, all other fields are null)\n",
    "\n"
   ]
  },
  {
   "cell_type": "code",
   "execution_count": null,
   "metadata": {},
   "outputs": [],
   "source": [
    "rawElders.printSchema"
   ]
  },
  {
   "cell_type": "markdown",
   "metadata": {},
   "source": [
    "### Find out the meaning of the following fields before they can be incorporated\n",
    "* Hjemmel [Now included]\n",
    "* HjemmelNr [Now included]\n",
    "* Kategori [Now included]\n",
    "* KategoriNr [Now included]\n",
    "* OrdinasjonAntallPakninger [Now included]\n",
    "* OrdinasjonAntallDDD [Now included]\n",
    "#### For The following fields the meaning is known \n",
    "* ICD\n",
    "* ICPC"
   ]
  },
  {
   "cell_type": "code",
   "execution_count": null,
   "metadata": {},
   "outputs": [],
   "source": [
    "val hjemmel = rawElders.select(\"Hjemmel\").where(\"Hjemmel is not null\")\n",
    "println(\"Distinct Hjemmel\")\n",
    "println(hjemmel.distinct.count)\n",
    "\n",
    "val hjemmelnr = rawElders.select($\"HjemmelNr\".cast(\"integer\")).where(\"HjemmelNr is not null\")\n",
    "println(\"Distinct hjemmelnr\")\n",
    "println(hjemmelnr.distinct.count)\n",
    "\n",
    "val hjemmel_hjemmelnr = rawElders.select($\"Hjemmel\", $\"Hjemmelnr\".cast(\"integer\"))\n",
    "    .groupBy(\"Hjemmel\", \"HjemmelNr\")\n",
    "    .count\n",
    "    .sort(desc(\"count\"))\n",
    "hjemmel_hjemmelnr.show(false)"
   ]
  },
  {
   "cell_type": "code",
   "execution_count": null,
   "metadata": {},
   "outputs": [],
   "source": [
    "val kategori_kategorinr = rawElders.select($\"Kategori\",$\"KategoriNr\")\n",
    "kategori_kategorinr.groupBy(\"Kategori\",\"KategoriNr\").count.sort(asc(\"KategoriNr\"))\n",
    "    .show"
   ]
  },
  {
   "cell_type": "code",
   "execution_count": null,
   "metadata": {
    "scrolled": true
   },
   "outputs": [],
   "source": [
    "val ordantpak_ordantddd = rawElders\n",
    "    .select($\"OrdinasjonAntallPakninger\", $\"OrdinasjonAntallDDD\").distinct\n",
    "\n",
    "//ordantpak_ordantddd.show\n",
    "rawElders\n",
    "    .select($\"OrdinasjonAntallPakninger\"\n",
    "            , $\"OrdinasjonAntallDDD\"\n",
    "            , $\"ATCKodeDDDEnhet\"\n",
    "            , $\"ATCKodeDDDVerdi\"\n",
    "            , $\"ATCKode\"\n",
    "           )\n",
    "    .groupBy($\"OrdinasjonAntallPakninger\"\n",
    "            , $\"OrdinasjonAntallDDD\"\n",
    "            , $\"ATCKodeDDDEnhet\"\n",
    "            , $\"ATCKodeDDDVerdi\"\n",
    "            , $\"ATCKode\")\n",
    "    .count\n",
    "    .sort(asc(\"ATCKode\"))\n",
    "//.sort(desc(\"count\"))\n",
    "    .show\n",
    "\n",
    "\n",
    "    rawElders.select($\"ATCKodeDDDEnhet\").where(\"ATCKodeDDDEnhet is not null\").distinct.collect.map(print)\n"
   ]
  },
  {
   "cell_type": "markdown",
   "metadata": {},
   "source": [
    "## Sanitize the data, removing some rows that make no sense\n",
    "Rows that lack the following information are removed\n",
    "* Prescriptions with no ATC code\n",
    "* Prescriptions of patients with no ID\n",
    "* Prescriptions of patients with no birthyear\n",
    "* Prescriptions where the ATC code is shorter than 5 levels\n",
    "\n",
    "### Cast the respective fields into types that make more sense\n",
    "* The fields should correlate with the field types and names of the prescription data\n",
    "\n",
    "#### The ICD and ICPC numbers are currently not kept, these will require some preprocessing to get in order\n",
    "\n",
    "##### Fields that are currently not kept after sanitization\n",
    "* |-- PasientUtenID: string (nullable = true)  :  Patients without ID are removed from dataset\n",
    "* |-- OrdinasjonAntallPakninger: string (nullable = true)\n",
    "* |-- OrdinasjonAntallDDD: string (nullable = true)\n",
    "* |-- Kategori: string (nullable = true)\n",
    "* |-- KategoriNr: string (nullable = true)\n",
    "* |-- Hjemmel: string (nullable = true)\n",
    "* |-- HjemmelNr: string (nullable = true)\n",
    "* |-- RefusjonKodeICDNr: string (nullable = true)\n",
    "* |-- RefusjonKodeICPCNr: string (nullable = true)\n",
    "* |-- VareNr: string (nullable = true)\n"
   ]
  },
  {
   "cell_type": "code",
   "execution_count": null,
   "metadata": {},
   "outputs": [],
   "source": [
    "val sanitized = rawElders\n",
    "    .where(\"PasientFodtAr is not null\")\n",
    "    .where(\"ATCKode is not null\")\n",
    "    .where(\"LENGTH(ATCKode) == 7\")\n",
    "    .where(\"PasientUtenID is not null\")\n",
    "    .select(\n",
    "        $\"PasientLopeNr\".as(\"id\")\n",
    "        ,$\"PasientFodtAr\".cast(\"integer\").as(\"birthyear\")\n",
    "        ,$\"PasientKjonn\".cast(\"integer\").as(\"gender\")\n",
    "        ,$\"PasientBostedFylkeNr\".cast(\"integer\").as(\"fylke_id\")\n",
    "        ,$\"PasientBostedFylkeNavn\".cast(\"integer\").as(\"fylke_name\")\n",
    "        ,$\"PasientDodsAr\".cast(\"integer\").as(\"year_of_death\")\n",
    "        ,$\"PasientDodsMnd\".cast(\"integer\").as(\"month_of_death\")\n",
    "        ,$\"ATCKode\".as(\"drugcode\")\n",
    "        ,$\"ATCKodeDDDVerdi\".as(\"DDD_value\")\n",
    "        ,$\"ATCKodeDDDEnhet\".as(\"DDD_unit\")\n",
    "        ,$\"VareNavn\"\n",
    "        ,unix_timestamp($\"UtleveringsAar\", \"yyyy\").cast(TimestampType).as(\"prescription_year\")\n",
    "        ,unix_timestamp($\"UtleveringsDato\", \"yyyy.MM.dd\").cast(TimestampType).as(\"timestamp\")\n",
    "        ,$\"Diff_UtleveringDato\".cast(\"integer\")\n",
    "        ,$\"ForskriverLopeNr\".as(\"prescriber_id\")\n",
    "        ,$\"ForskriverFodtAr\".cast(\"integer\").as(\"prescriber_birthyear\")\n",
    "        ,$\"ForskriverKjonn\".cast(\"integer\").as(\"prescriber_gender\")\n",
    "        ,$\"ForskriverUtenID\".cast(\"integer\").as(\"prescriber_no_id\")\n",
    "        ,$\"Hjemmel\"\n",
    "        ,$\"Hjemmelnr\".cast(\"integer\")\n",
    "        ,$\"Kategori\"\n",
    "        ,$\"KategoriNr\".cast(\"integer\")\n",
    "        ,$\"OrdinasjonAntallPakninger\".cast(\"float\")\n",
    "        ,$\"OrdinasjonAntallDDD\".cast(\"float\")\n",
    "    )\n",
    "    .repartition($\"id\")\n",
    "    .sortWithinPartitions($\"id\",$\"timestamp\",$\"Diff_UtleveringDato\")\n",
    "//before\n",
    "rawElders.printSchema\n",
    "//after\n",
    "sanitized.printSchema"
   ]
  },
  {
   "cell_type": "markdown",
   "metadata": {},
   "source": [
    "### The script below verifies that prescription dates are represented in two different ways\n",
    "___ \n",
    "Look at the following table\n",
    "\n",
    "`\n",
    "+-------------+--------------+-------------------+-------------------+\n",
    "|year_of_death|month_of_death|          timestamp|Diff_UtleveringDato|\n",
    "+-------------+--------------+-------------------+-------------------+\n",
    "|         2015|            12|2013-01-23 00:00:00|               null|\n",
    "|         2016|            11|2014-10-20 00:00:00|               null|\n",
    "|         2015|            11|2014-10-06 00:00:00|               null|\n",
    "|         2015|             5|2013-01-02 00:00:00|               null|\n",
    "|         2016|             7|               null|                396|\n",
    "+-------------+--------------+-------------------+-------------------+\n",
    "`\n",
    "\n",
    "* Observe that there is an XOR relation between timestamp and Diff_UtleveringsDato\n",
    "\n",
    "This may be verified by setting execExtras to true and running the next cell"
   ]
  },
  {
   "cell_type": "code",
   "execution_count": null,
   "metadata": {},
   "outputs": [],
   "source": [
    "// Show fields using timestamp vs Diff_UtleveringDato\n",
    "if(execExtras){\n",
    "    val timestamp_cmp_df = sanitized.select(\n",
    "            $\"year_of_death\"\n",
    "            ,$\"month_of_death\"\n",
    "            ,$\"timestamp\"\n",
    "            ,$\"Diff_UtleveringDato\"\n",
    "        ).where(\"year_of_death is not null\")\n",
    "    timestamp_cmp_df.show(5)\n",
    "    val timestamp_not_null = timestamp_cmp_df\n",
    "        .where(\"timestamp is not null\").count\n",
    "    val timestamp_null =timestamp_cmp_df\n",
    "        .where(\"timestamp is null\").count    \n",
    "}else{\n",
    "    println(\"not executed\")\n",
    "}"
   ]
  },
  {
   "cell_type": "markdown",
   "metadata": {},
   "source": [
    "## Parse the death timestamp"
   ]
  },
  {
   "cell_type": "code",
   "execution_count": null,
   "metadata": {},
   "outputs": [],
   "source": [
    "%run \"src/scala/udf_elders.scala\""
   ]
  },
  {
   "cell_type": "code",
   "execution_count": null,
   "metadata": {},
   "outputs": [],
   "source": [
    "\n",
    "\n",
    "val elders_processed = parse_death_timestamp(sanitized)\n",
    "//sanitized.printSchema\n",
    "//elders_processed.printSchema\n",
    "elders_processed.select($\"id\",$\"death_timestamp\")\n",
    "    .where(\"death_timestamp is not null\").show(5)\n",
    "\n",
    "elders_processed.where(\"death_timestamp is not null\").count\n",
    "elders_processed.where(\"death_timestamp is null\").count"
   ]
  },
  {
   "cell_type": "markdown",
   "metadata": {},
   "source": [
    "# Transform the dataset into multiple DataFrames\n",
    "## Raw Dataframe, Also parse the death timestamp"
   ]
  },
  {
   "cell_type": "markdown",
   "metadata": {},
   "source": [
    "## Prescription Table"
   ]
  },
  {
   "cell_type": "code",
   "execution_count": null,
   "metadata": {
    "scrolled": true
   },
   "outputs": [],
   "source": [
    "\n",
    "val prescriptions = elders_processed.select(\n",
    "    $\"id\"\n",
    "    ,$\"birthyear\"\n",
    "    ,$\"gender\"\n",
    "    ,$\"drugcode\"\n",
    "    ,$\"DDD_value\"\n",
    "    ,$\"DDD_unit\"\n",
    "    ,$\"prescription_year\"\n",
    "    ,$\"timestamp\"\n",
    "    ,$\"Diff_UtleveringDato\"\n",
    "    ,$\"prescriber_id\"\n",
    "    ,$\"OrdinasjonAntallPakninger\"\n",
    "    ,$\"OrdinasjonAntallDDD\"\n",
    ")\n",
    "\n",
    "if (execExtras){\n",
    "prescriptions.show(5)    \n",
    "}"
   ]
  },
  {
   "cell_type": "markdown",
   "metadata": {},
   "source": [
    "## Patients Table\n",
    "#### Will need to figure out how to properly concatenate dates (year+month of death) in this format\n"
   ]
  },
  {
   "cell_type": "code",
   "execution_count": null,
   "metadata": {
    "scrolled": false
   },
   "outputs": [],
   "source": [
    "val patients = elders_processed.select(\n",
    "    $\"id\"\n",
    "    ,$\"birthyear\"\n",
    "    ,$\"gender\"\n",
    "    ,$\"death_timestamp\"\n",
    ").distinct\n",
    "\n",
    "patients.createOrReplaceTempView(\"hosp_patients\")\n"
   ]
  },
  {
   "cell_type": "code",
   "execution_count": null,
   "metadata": {
    "scrolled": false
   },
   "outputs": [],
   "source": [
    "if (execExtras) {\n",
    "    spark.sql(\"select * from hosp_patients\")\n",
    "        .where(\"year_of_death is null\")\n",
    "        .createOrReplaceTempView(\"hosp_patients_live\")\n",
    "    spark.sql(\"select * from hosp_patients\")\n",
    "        .where(\"year_of_death is not null\")\n",
    "        .createOrReplaceTempView(\"hosp_patients_dead\")\n",
    "    val live_patients_count = spark.sql(\"select * from hosp_patients_live\").count\n",
    "    val dead_patients_count = spark.sql(\"select * from hosp_patients_dead\").count\n",
    "    val total_patients_count = patients.count\n",
    "    patients.count - live_patients_count - dead_patients_count  \n",
    "}"
   ]
  },
  {
   "cell_type": "markdown",
   "metadata": {},
   "source": [
    "## Drug table"
   ]
  },
  {
   "cell_type": "code",
   "execution_count": null,
   "metadata": {},
   "outputs": [],
   "source": [
    "val drugs = elders_processed.where(length($\"drugcode\") === 7).select(\n",
    "        $\"drugcode\"\n",
    "        ,$\"VareNavn\"\n",
    ").groupBy($\"drugcode\",$\"VareNavn\").count.sort(\"drugcode\")\n",
    "if (execExtras){\n",
    "    drugs.show(5,false)    \n",
    "}"
   ]
  },
  {
   "cell_type": "markdown",
   "metadata": {},
   "source": [
    "# Save all tables"
   ]
  },
  {
   "cell_type": "code",
   "execution_count": null,
   "metadata": {},
   "outputs": [],
   "source": [
    "//save elders_processed table\n",
    "//This contains all variables\n",
    "elders_processed.write\n",
    "    .mode(SaveMode.Overwrite)\n",
    "    .parquet(basedir+\"all\")\n",
    "println(\"ok\")"
   ]
  },
  {
   "cell_type": "code",
   "execution_count": null,
   "metadata": {},
   "outputs": [],
   "source": [
    "//save patients table\n",
    "//this contains a subset of variables\n",
    "patients.write\n",
    "    .mode(SaveMode.Overwrite)\n",
    "    .parquet(basedir+\"patients\")\n",
    "println(\"ok\")"
   ]
  },
  {
   "cell_type": "code",
   "execution_count": null,
   "metadata": {},
   "outputs": [],
   "source": [
    "//save prescription table\n",
    "prescriptions.write\n",
    "    .mode(SaveMode.Overwrite)\n",
    "    .parquet(basedir+\"prescriptions\")\n",
    "println(\"ok\")"
   ]
  },
  {
   "cell_type": "code",
   "execution_count": null,
   "metadata": {},
   "outputs": [],
   "source": [
    "//save drugs table\n",
    "drugs.write\n",
    "    .mode(SaveMode.Overwrite)\n",
    "    .parquet(basedir+\"drugs\")\n",
    "println(\"ok\")"
   ]
  },
  {
   "cell_type": "markdown",
   "metadata": {},
   "source": [
    "___\n",
    "\n",
    "\n",
    "\n",
    "### Which genders do the PasientKjonn(gender) value correlate with?\n",
    "\n",
    "PasientKjonn values: Male=>1, Female=>2, as verified below\n"
   ]
  },
  {
   "cell_type": "code",
   "execution_count": null,
   "metadata": {
    "scrolled": false
   },
   "outputs": [],
   "source": [
    "//what genders do the PasientKjonn value correlate with?\n",
    "val atc_with_gender = sanitizedHospitalization.select(\n",
    "    $\"drugcode\"\n",
    "    ,$\"gender\"\n",
    ")\n",
    "//sex hormones\n",
    "atc_with_gender.where($\"drugcode\".startsWith(\"G03\")).groupBy(\"gender\").count.show\n",
    "//and androgens, specifically\n",
    "atc_with_gender.where($\"drugcode\".startsWith(\"G03B\")).groupBy(\"gender\").count.show\n"
   ]
  },
  {
   "cell_type": "markdown",
   "metadata": {},
   "source": [
    "## Product variants of the same drug(ATC code)\n",
    "* not counting dosage or product number, but rather only the product name"
   ]
  },
  {
   "cell_type": "code",
   "execution_count": null,
   "metadata": {
    "scrolled": false
   },
   "outputs": [],
   "source": [
    "val drug_variants_with_count = sanitizedHospitalization.select(\n",
    "    $\"drugcode\"\n",
    "    ,$\"VareNavn\"\n",
    ").distinct.groupBy(\"drugcode\").count.sort(\"drugcode\").distinct\n",
    "\n",
    "drug_variants_with_count.sort(desc(\"count\")).createOrReplaceTempView(\"n_drug_variants\")"
   ]
  },
  {
   "cell_type": "code",
   "execution_count": null,
   "metadata": {
    "scrolled": true
   },
   "outputs": [],
   "source": [
    "val count_distinct_atc_with_product_name = rawHospitalization.select($\"ATCKode\",$\"VareNavn\").distinct.count\n",
    "val count_distinct_atc_codes = rawHospitalization.select($\"ATCKode\").distinct.count\n",
    "println(\"mean number of distinct products per drug ATC code:\")\n",
    "println(count_distinct_atc_with_product_name.toFloat/count_distinct_atc_codes.toFloat)\n"
   ]
  },
  {
   "cell_type": "markdown",
   "metadata": {},
   "source": [
    "### Let's plot some distributions with python"
   ]
  },
  {
   "cell_type": "code",
   "execution_count": null,
   "metadata": {
    "scrolled": false
   },
   "outputs": [],
   "source": [
    "%%python\n",
    "spark"
   ]
  },
  {
   "cell_type": "code",
   "execution_count": null,
   "metadata": {
    "scrolled": false
   },
   "outputs": [],
   "source": [
    "%%python\n",
    "import pandas as pd\n",
    "import matplotlib.pyplot as plt\n",
    "import numpy as np\n",
    "from IPython.display import Image\n",
    "import tempfile"
   ]
  },
  {
   "cell_type": "code",
   "execution_count": null,
   "metadata": {
    "scrolled": false
   },
   "outputs": [],
   "source": [
    "%%python\n",
    "#magic function for plotting, since the spylon-kernel needs tempfiles to display images\n",
    "def plotfig_magic():\n",
    "    fo = tempfile.NamedTemporaryFile(suffix=\".png\", mode=\"w\")\n",
    "    fo.close()\n",
    "    plt.savefig(fo.name)\n",
    "    return Image(filename=fo.name)"
   ]
  },
  {
   "cell_type": "code",
   "execution_count": null,
   "metadata": {
    "scrolled": false
   },
   "outputs": [],
   "source": [
    "%%python\n",
    "spark.sql(\"show tables\").show()\n",
    "count_drug_variants_df = spark.sql(\"select * from n_drug_variants\").toPandas()\n",
    "print(count_drug_variants_df[:20])"
   ]
  },
  {
   "cell_type": "code",
   "execution_count": null,
   "metadata": {},
   "outputs": [],
   "source": [
    "spark.sql(\"show tables\").show\n",
    "sanitizedHospitalization.select(\n",
    "    $\"drugcode\"\n",
    "    ,$\"VareNavn\"\n",
    ").where($\"drugcode\"===\"N05AH03\").distinct.show(68,false)"
   ]
  },
  {
   "cell_type": "markdown",
   "metadata": {},
   "source": [
    "## Variants of the same drug (same ATC code)"
   ]
  },
  {
   "cell_type": "code",
   "execution_count": null,
   "metadata": {
    "scrolled": false
   },
   "outputs": [],
   "source": [
    "%%python\n",
    "plt.clf()\n",
    "count_drug_variants_df.plot(\n",
    "    x=\"drugcode\",\n",
    "    y=\"count\",\n",
    "    label=\"Number of product names per ATC code\"\n",
    ")\n",
    "plt.title(\"drugs, ordered by highers to lowest number of products per ATC code\")\n",
    "retval=plotfig_magic()"
   ]
  },
  {
   "cell_type": "markdown",
   "metadata": {},
   "source": [
    "## Birth year distribution of live and dead patients"
   ]
  },
  {
   "cell_type": "code",
   "execution_count": null,
   "metadata": {
    "scrolled": false
   },
   "outputs": [],
   "source": [
    "%%python\n",
    "\n",
    "#spark.sql(\"show tables\").show()\n",
    "totalDF = spark.sql(\"select * from hosp_patients\").groupBy(\"birthyear\").count().sort(\"birthyear\").toPandas()\n",
    "liveDF = spark.sql(\"select * from hosp_patients_live\").groupBy(\"birthyear\").count().sort(\"birthyear\").toPandas()\n",
    "deadDF = spark.sql(\"select * from hosp_patients_dead\").groupBy(\"birthyear\").count().sort(\"birthyear\").toPandas()\n",
    "print(\"ok\")"
   ]
  },
  {
   "cell_type": "code",
   "execution_count": null,
   "metadata": {
    "scrolled": false
   },
   "outputs": [],
   "source": [
    "%%python\n",
    "\n",
    "plt.clf()\n",
    "ax = liveDF[:50].plot(x=\"birthyear\", y=\"count\", label=\"Live patients\")\n",
    "deadDF[:46].plot(x=\"birthyear\", y=\"count\", label=\"Dead patients\" , ax=ax)\n",
    "plt.title(\"Number of live and dead hospitalized patients\")\n",
    "retval=plotfig_magic()"
   ]
  },
  {
   "cell_type": "markdown",
   "metadata": {},
   "source": [
    "### Zoom in on 1900-1930"
   ]
  },
  {
   "cell_type": "code",
   "execution_count": null,
   "metadata": {},
   "outputs": [],
   "source": [
    "%%python\n",
    "\n",
    "plt.clf()\n",
    "ax = liveDF[:24].plot(x=\"birthyear\", y=\"count\", label=\"Live patients\")\n",
    "deadDF[:21].plot(x=\"birthyear\", y=\"count\", label=\"Dead patients\" , ax=ax)\n",
    "plt.title(\"Number of live and dead hospitalized patients\")\n",
    "retval=plotfig_magic()"
   ]
  },
  {
   "cell_type": "markdown",
   "metadata": {},
   "source": [
    "## Death rate by age"
   ]
  },
  {
   "cell_type": "code",
   "execution_count": null,
   "metadata": {},
   "outputs": [],
   "source": [
    "%%python\n",
    "\n",
    "deadDFcopy = deadDF.copy()\n",
    "deadDFcopy.columns=[\"birthyear\", \"count_deceased\"]\n",
    "deadDFcopy.set_index(\"birthyear\")\n",
    "\n",
    "liveDFcopy = liveDF.copy()\n",
    "liveDFcopy.set_index(\"birthyear\")\n",
    "\n",
    "totalDFcopy=totalDF.copy().rename(columns={\"count\":\"total\"})\n",
    "\n",
    "distribution_totalDF = liveDFcopy.merge(deadDFcopy, how=\"outer\", on=\"birthyear\")\\\n",
    "    .merge(totalDFcopy, how=\"outer\",on=\"birthyear\")\\\n",
    "    .fillna(0.0)\\\n",
    "    .sort_values(\"birthyear\")\n",
    "\n",
    "#distribution_totalDF[\"total\"] = distribution_totalDF[\"count\"] +  distribution_totalDF[\"count_deceased\"]\n",
    "print(distribution_totalDF[40:50])\n",
    "print(distribution_totalDF[\"total\"].sum())"
   ]
  },
  {
   "cell_type": "code",
   "execution_count": null,
   "metadata": {
    "scrolled": false
   },
   "outputs": [],
   "source": [
    "%%python\n",
    "plt.clf()\n",
    "ratesDF = distribution_totalDF.copy()\n",
    "ratesDF[\"count\"] = (distribution_totalDF[\"count_deceased\"]/(distribution_totalDF[\"total\"]))\n",
    "#print(ratesDF)\n",
    "#print(rates)\n",
    "ratesDF.plot(x=\"birthyear\", y=\"count\")\n",
    "plt.title(\"\")\n",
    "retval=plotfig_magic()"
   ]
  },
  {
   "cell_type": "code",
   "execution_count": null,
   "metadata": {
    "scrolled": false
   },
   "outputs": [],
   "source": [
    "rawHospitalization.printSchema"
   ]
  },
  {
   "cell_type": "code",
   "execution_count": null,
   "metadata": {
    "scrolled": false
   },
   "outputs": [],
   "source": [
    "rawHospitalization.select(\"Hjemmel\").sample(0.05).where(\"hjemmel is not null\").distinct.show(3,false)"
   ]
  },
  {
   "cell_type": "code",
   "execution_count": null,
   "metadata": {
    "scrolled": false
   },
   "outputs": [],
   "source": [
    "rawHospitalization.select($\"Diff_UtleveringDato\".cast(\"integer\"))\n",
    "    .where(\"Diff_UtleveringDato is not null\")\n",
    "    .groupBy(\"Diff_UtleveringDato\")\n",
    "    .count\n",
    "    .sort(desc(\"Diff_UtleveringDato\"))\n",
    "    .createOrReplaceTempView(\"drug_handout_diff\")"
   ]
  },
  {
   "cell_type": "code",
   "execution_count": null,
   "metadata": {},
   "outputs": [],
   "source": [
    "%%python\n",
    "drug_handoutDF = spark.sql(\"select * from drug_handout_diff\").toPandas()"
   ]
  },
  {
   "cell_type": "markdown",
   "metadata": {},
   "source": [
    "### Diff_UtleveringDato\n",
    "* Day 0 is the first hospitalization for a given patient in 2013\n",
    "* The following graph is aggregated across the whole population\n",
    "* "
   ]
  },
  {
   "cell_type": "code",
   "execution_count": null,
   "metadata": {},
   "outputs": [],
   "source": [
    "%%python\n",
    "plt.clf()\n",
    "\n",
    "\n",
    "#print(drug_handoutDF)\n",
    "ax = drug_handoutDF.plot(x=\"Diff_UtleveringDato\", y=\"count\")\n",
    "plt.title(\"TBD\")\n",
    "\n",
    "retval=plotfig_magic()"
   ]
  },
  {
   "cell_type": "code",
   "execution_count": null,
   "metadata": {},
   "outputs": [],
   "source": [
    "%%python\n",
    "#print(drug_handoutDF)\n",
    "ax = drug_handoutDF[600:900].plot(x=\"Diff_UtleveringDato\", y=\"count\")\n",
    "plt.title(\"TBD\")\n",
    "\n",
    "retval=plotfig_magic()"
   ]
  },
  {
   "cell_type": "code",
   "execution_count": null,
   "metadata": {},
   "outputs": [],
   "source": [
    "sanitizedHospitalization.where(\"timestamp is null\").select($\"Diff_UtleveringDato\").show(20)"
   ]
  },
  {
   "cell_type": "code",
   "execution_count": null,
   "metadata": {},
   "outputs": [],
   "source": [
    "val top_drugs_by_count = sanitizedHospitalization\n",
    "    .where(\"timestamp is null\").select(\"drugcode\")\n",
    "    .groupBy(\"drugcode\").count.sort(desc(\"count\"))\n",
    "\n",
    "top_drugs_by_count.show()\n",
    "top_drugs_by_count.take(5)"
   ]
  },
  {
   "cell_type": "code",
   "execution_count": null,
   "metadata": {},
   "outputs": [],
   "source": [
    "rawHospitalization.where($\"ATCKode\"===\"B01AC06\")\n",
    "    .select($\"Diff_UtleveringDato\".cast(\"integer\"))    \n",
    "    .where(\"Diff_UtleveringDato is not null\")\n",
    "    .groupBy(\"Diff_UtleveringDato\")\n",
    "    .count\n",
    "    .sort(desc(\"Diff_UtleveringDato\"))\n",
    "    .createOrReplaceTempView(\"drug_handout_diff_1\")"
   ]
  },
  {
   "cell_type": "code",
   "execution_count": null,
   "metadata": {},
   "outputs": [],
   "source": [
    "%%python\n",
    "\n",
    "drug_handoutDF1 =spark.sql(\"select * from drug_handout_diff_1\").toPandas()\n",
    "\n",
    "#print(drug_handoutDF)\n",
    "ax = drug_handoutDF1.plot(x=\"Diff_UtleveringDato\", y=\"count\")\n",
    "plt.title(\"TBD\")\n",
    "\n",
    "retval=plotfig_magic()"
   ]
  },
  {
   "cell_type": "markdown",
   "metadata": {},
   "source": [
    "## Distribution of prescriptions by birthyear"
   ]
  },
  {
   "cell_type": "code",
   "execution_count": null,
   "metadata": {},
   "outputs": [],
   "source": [
    "rawHospitalization.where($\"ATCKode\"===\"C07AB02\")\n",
    "    .select($\"Diff_UtleveringDato\".cast(\"integer\"))    \n",
    "    .where(\"Diff_UtleveringDato is not null\")\n",
    "    .groupBy(\"Diff_UtleveringDato\")\n",
    "    .count\n",
    "    .sort(desc(\"Diff_UtleveringDato\"))\n",
    "    .createOrReplaceTempView(\"drug_handout_diff_2\")\n",
    "\n"
   ]
  },
  {
   "cell_type": "code",
   "execution_count": null,
   "metadata": {},
   "outputs": [],
   "source": [
    "%%python\n",
    "\n",
    "drug_handoutDF2 =spark.sql(\"select * from drug_handout_diff_2\").toPandas()\n",
    "\n",
    "#print(drug_handoutDF)\n",
    "ax = drug_handoutDF2.plot(x=\"Diff_UtleveringDato\", y=\"count\")\n",
    "plt.title(\"TBD\")\n",
    "\n",
    "retval=plotfig_magic()"
   ]
  },
  {
   "cell_type": "code",
   "execution_count": null,
   "metadata": {},
   "outputs": [],
   "source": []
  },
  {
   "cell_type": "code",
   "execution_count": null,
   "metadata": {},
   "outputs": [],
   "source": []
  }
 ],
 "metadata": {
  "kernelspec": {
   "display_name": "spylon-kernel",
   "language": "scala",
   "name": "spylon-kernel"
  },
  "language_info": {
   "codemirror_mode": "text/x-scala",
   "file_extension": ".scala",
   "help_links": [
    {
     "text": "MetaKernel Magics",
     "url": "https://github.com/calysto/metakernel/blob/master/metakernel/magics/README.md"
    }
   ],
   "mimetype": "text/x-scala",
   "name": "scala",
   "pygments_lexer": "scala",
   "version": "0.4.1"
  }
 },
 "nbformat": 4,
 "nbformat_minor": 2
}
