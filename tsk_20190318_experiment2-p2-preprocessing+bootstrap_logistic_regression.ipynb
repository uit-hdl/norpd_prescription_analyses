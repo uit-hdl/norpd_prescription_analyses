{
 "cells": [
  {
   "cell_type": "code",
   "execution_count": null,
   "metadata": {},
   "outputs": [],
   "source": []
  },
  {
   "cell_type": "markdown",
   "metadata": {},
   "source": [
    "# Analysis 2-2: Preprocessing + bootstrap algorithm"
   ]
  },
  {
   "cell_type": "code",
   "execution_count": 1,
   "metadata": {},
   "outputs": [
    {
     "data": {
      "text/plain": [
       "Intitializing Scala interpreter ..."
      ]
     },
     "metadata": {},
     "output_type": "display_data"
    },
    {
     "data": {
      "text/plain": [
       "Spark Web UI available at http://localhost:4040\n",
       "SparkContext available as 'sc' (version = 2.3.2, master = local[*], app id = local-1558865537078)\n",
       "SparkSession available as 'spark'\n"
      ]
     },
     "metadata": {},
     "output_type": "display_data"
    },
    {
     "data": {
      "text/plain": [
       "res0: org.apache.spark.sql.SparkSession = org.apache.spark.sql.SparkSession@32dc6701\n"
      ]
     },
     "execution_count": 1,
     "metadata": {},
     "output_type": "execute_result"
    }
   ],
   "source": [
    "spark"
   ]
  },
  {
   "cell_type": "code",
   "execution_count": 2,
   "metadata": {},
   "outputs": [],
   "source": [
    "//%load src/scala/spark_imports.scala"
   ]
  },
  {
   "cell_type": "code",
   "execution_count": 3,
   "metadata": {},
   "outputs": [
    {
     "data": {
      "text/plain": [
       "import org.apache.spark.sql._\n",
       "import org.apache.spark.sql.DataFrame\n",
       "import org.apache.spark.sql.functions._\n",
       "import org.apache.spark.sql.types._\n",
       "import spark.implicits._\n"
      ]
     },
     "execution_count": 3,
     "metadata": {},
     "output_type": "execute_result"
    }
   ],
   "source": [
    "import org.apache.spark.sql._\n",
    "import org.apache.spark.sql.DataFrame\n",
    "import org.apache.spark.sql.functions._\n",
    "import org.apache.spark.sql.types._\n",
    "import spark.implicits._"
   ]
  },
  {
   "cell_type": "markdown",
   "metadata": {},
   "source": [
    "## Load the datasets into Spark\n",
    "## This analysis is currently only implemented on the male group"
   ]
  },
  {
   "cell_type": "code",
   "execution_count": 4,
   "metadata": {},
   "outputs": [
    {
     "data": {
      "text/plain": [
       "basedir: String = spark-warehouse/experiment2-data/\n"
      ]
     },
     "execution_count": 4,
     "metadata": {},
     "output_type": "execute_result"
    }
   ],
   "source": [
    "val basedir = \"spark-warehouse/experiment2-data/\"\n",
    "\n",
    "// prescription data for unhospitalized patients\n",
    "spark.read.parquet(basedir+\"male/unhosp_pres\")\n",
    "    .createOrReplaceTempView(\"e2_healthy_pres\")\n",
    "\n",
    "// prescription data hospitalized patients\n",
    "spark.read.parquet(basedir+\"male/hosp_pres\")\n",
    "    .createOrReplaceTempView(\"e2_hosp_pres\")\n",
    "\n",
    "// hospitalization data for elders \n",
    "spark.read.parquet(basedir+\"male/hosp_npr\")\n",
    "    .createOrReplaceTempView(\"e2_hosp_npr\")\n",
    "\n",
    "// prescription duration estimates for all elders\n",
    "spark.read\n",
    "    .parquet(\"spark-warehouse/experiment2-data/elders_drug_duration/\")\n",
    "    .createOrReplaceTempView(\"e2_drug_duration\")"
   ]
  },
  {
   "cell_type": "markdown",
   "metadata": {},
   "source": [
    "## Get the intersection between Drugs in healthy and hospitalized patients"
   ]
  },
  {
   "cell_type": "code",
   "execution_count": 5,
   "metadata": {},
   "outputs": [
    {
     "name": "stdout",
     "output_type": "stream",
     "text": [
      "(# drugs in healthy population: ,1039)\n",
      "(# drugs in hosp population:,1040)\n"
     ]
    },
    {
     "data": {
      "text/plain": [
       "drugs_in_unhosp: org.apache.spark.sql.Dataset[org.apache.spark.sql.Row] = [drugcode: string]\n",
       "drugs_in_hosp: org.apache.spark.sql.Dataset[org.apache.spark.sql.Row] = [drugcode: string]\n",
       "get_drug_intersection: (a: org.apache.spark.sql.DataFrame, b: org.apache.spark.sql.DataFrame)org.apache.spark.sql.DataFrame\n",
       "drug_intersection: org.apache.spark.sql.DataFrame = [drugcode: string]\n"
      ]
     },
     "execution_count": 5,
     "metadata": {},
     "output_type": "execute_result"
    }
   ],
   "source": [
    "\n",
    "val drugs_in_unhosp = spark.sql(\"select * from e2_healthy_pres\")\n",
    "    .select(\"drugcode\").distinct//.count\n",
    "val drugs_in_hosp = spark.sql(\"select * from e2_hosp_pres\")\n",
    "    .select(\"drugcode\").distinct//.count\n",
    "// We may want to look at occurrence of each drug for the two populations\n",
    "// However this will be kept in mind for later\n",
    "println(\"# drugs in healthy population: \",drugs_in_unhosp.count)\n",
    "println(\"# drugs in hosp population:\",drugs_in_hosp.count)\n",
    "\n",
    "//\n",
    "def get_drug_intersection(a:DataFrame, b:DataFrame):DataFrame = {\n",
    "    a.select($\"drugcode\".as(\"drugcode2\"))\n",
    "    .join(b, $\"drugcode\"===$\"drugcode2\").select(\"drugcode\")\n",
    "    .sort(asc(\"drugcode\")).distinct\n",
    "}\n",
    "\n",
    "val drug_intersection = get_drug_intersection(drugs_in_unhosp, drugs_in_hosp)\n",
    "drug_intersection.createOrReplaceTempView(\"e2_drugcodes\")\n"
   ]
  },
  {
   "cell_type": "code",
   "execution_count": 6,
   "metadata": {},
   "outputs": [
    {
     "name": "stdout",
     "output_type": "stream",
     "text": [
      "(Drugs in intersection : ,949)\n"
     ]
    },
    {
     "data": {
      "text/plain": [
       "hosp_except_healthy: Long = 91\n",
       "healthy_except_hosp: Long = 90\n"
      ]
     },
     "execution_count": 6,
     "metadata": {},
     "output_type": "execute_result"
    }
   ],
   "source": [
    "/*\n",
    "    Counts of drugs in each subpopulation ( can be commented out )\n",
    "*/\n",
    "println(\"Drugs in intersection : \", drug_intersection.count)\n",
    "\n",
    "//println(\"hospitalized only\")\n",
    "val hosp_except_healthy = drugs_in_hosp\n",
    "    .join(drugs_in_unhosp.select($\"drugcode\".as(\"drugcode2\"))\n",
    "          , $\"drugcode\"===$\"drugcode2\", \"leftanti\")\n",
    "    .sort(asc(\"drugcode\")).count//.show\n",
    "\n",
    "//println(\"healthy only\")\n",
    "val healthy_except_hosp = drugs_in_unhosp\n",
    "    .join(drugs_in_hosp.select($\"drugcode\".as(\"drugcode2\"))\n",
    "          , $\"drugcode\"===$\"drugcode2\", \"leftanti\")\n",
    "    .sort(asc(\"drugcode\")).count//.show\n"
   ]
  },
  {
   "cell_type": "code",
   "execution_count": 7,
   "metadata": {},
   "outputs": [],
   "source": [
    "//%load src/python/e2_imports.py\n",
    "//add %%python as first line since we're in spylon kernel"
   ]
  },
  {
   "cell_type": "code",
   "execution_count": 8,
   "metadata": {},
   "outputs": [],
   "source": [
    "%%python\n",
    "import sklearn.preprocessing\n",
    "from sklearn.preprocessing import MultiLabelBinarizer\n",
    "import numpy as np\n",
    "import pandas as pd\n",
    "from pyspark.sql.functions import collect_list, struct, col, explode, rand\n",
    "from sklearn.preprocessing import LabelBinarizer\n",
    "from sklearn.metrics import confusion_matrix\n",
    "from sklearn.linear_model import LogisticRegression"
   ]
  },
  {
   "cell_type": "markdown",
   "metadata": {},
   "source": [
    "## We create a drug encoder using the drugs from intersection\n",
    "* We use sklearn's MultiLabelBinarizer\n",
    "* Using all levels in the ATC system we get 938 drugs overlapping between the two populations, we will attempt to use all levels with the full population"
   ]
  },
  {
   "cell_type": "code",
   "execution_count": 9,
   "metadata": {},
   "outputs": [
    {
     "name": "stdout",
     "output_type": "stream",
     "text": [
      "drug-array shape: (949, 1)\n",
      "sample transformed:\n",
      " [[1 0 0 0 0 0 0 0 0 0]\n",
      " [0 1 0 0 0 0 0 0 0 0]\n",
      " [0 0 1 0 0 0 0 0 0 0]]\n",
      "sample inv-transformed (first 10 indices) [('A01AA01', 'A01AB03', 'A01AB04')]\n"
     ]
    }
   ],
   "source": [
    "%%python\n",
    "drugs = np.array([d[0] for d in spark.sql(\"select * from e2_drugcodes\") \\\n",
    "              .collect()]).reshape(-1)[None].T\n",
    "print(\"drug-array shape:\", drugs.shape)\n",
    "\n",
    "\n",
    "def create_multilabelbinarizer_from_np_arr(elements):\n",
    "    drugencoder = MultiLabelBinarizer()\n",
    "    drugencoder.fit_transform(drugs)\n",
    "    return drugencoder\n",
    "\n",
    "drugencoder = create_multilabelbinarizer_from_np_arr(drugs)\n",
    "\n",
    "transformed = drugencoder.transform(drugs[:3])\n",
    "test_sample =  transformed[0:1]+transformed[1:2]+transformed[2:3]\n",
    "inverse = drugencoder.inverse_transform(test_sample)\n",
    "\n",
    "print(\"sample transformed:\\n\", transformed[:,:10])\n",
    "print(\"sample inv-transformed (first 10 indices)\", inverse)"
   ]
  },
  {
   "cell_type": "markdown",
   "metadata": {},
   "source": [
    "### Create an ATC to description map using a helper function\n",
    "* This allows us to go from ATC-code to drug name (chemical substance)"
   ]
  },
  {
   "cell_type": "code",
   "execution_count": 10,
   "metadata": {},
   "outputs": [],
   "source": [
    "%%python\n",
    "from src.python.csv_to_dict import csv_to_dict\n",
    "atc_to_description = csv_to_dict(\"datasets/atc_to_descr/2014_atc.csv\")"
   ]
  },
  {
   "cell_type": "markdown",
   "metadata": {},
   "source": [
    "# Conversion of prescription data takes place in multiple stages\n",
    "### We need a method to look up which drugs are currently in use from new dataset\n",
    "1. We intersected the drugs in each patient group, and created an encoder which produces a vector given a set of drugs, or a matrix if given a sample with multiple sets of drugs:  [drug 1, drug 3] => [0, 1, 0, 1, 0...]\n",
    "___\n",
    "### Healthy patients \n",
    "1. Sample IDs with replacement from the set of IDs in healthy population\n",
    "2. Take a random date in (0,365) for each sampled ID => DF(\"id\") becomes DF(\"id\", \"randomdate\".as(\"date\")\n",
    "3. Join with Drug Duration dataset on conditions: \n",
    "    \n",
    "    * healthy[id]===drug_dur[id]\n",
    "    \n",
    "    * healthy[date] > drug_dur[treatment_start]\n",
    "    \n",
    "    * healthy[date] < drug_dur[treatment_end]\n",
    "\n",
    "4. GroupBy (Id, date) and aggregate with collect_list. This returns a set of drugs per  patient-date selection\n",
    "___\n",
    "\n",
    "### Hospitalized patients\n",
    "1. Convert hospitalizations to windows between hospitalizations\n",
    "2. select the N longest windows\n",
    "3. take a point in time X days prior to the hospitalization (10-30 days?)\n",
    "4. Lookup all active drugs at point in time in active drugs dataset\n",
    "___ \n",
    "### Now convert healthy patient's data to vector format by dividing their time series into 30-day windows\n",
    "* This may have to be done in chunks if the data doesn't fit python's memory"
   ]
  },
  {
   "cell_type": "markdown",
   "metadata": {},
   "source": [
    "### How do we preprocess healthy patients?\n",
    "1. We need the healthy patients\n",
    "2. Take all drug durations from healthy population joining drug duration set with healthy patients\n",
    "3. Limit them between day 0 and day 365\n",
    "#### To sample from the healthy patients we do the following\n",
    "1. Sample a fraction of the patients from healthy_patients\n",
    "2. "
   ]
  },
  {
   "cell_type": "code",
   "execution_count": null,
   "metadata": {},
   "outputs": [],
   "source": [
    "spark.sql(\"show tables\").show()\n",
    "val drug_durations = spark.sql(\"select * from e2_drug_duration\").as(\"t1\")\n",
    "    .join(spark.sql(\"select distinct id from e2_healthy_pres\").as(\"t2\"), \n",
    "          $\"t1.id\" === $\"t2.id\")\n",
    "    .select(\"t1.*\")\n",
    "\n",
    "val frac = 0.4\n",
    "spark.sql(\"select distinct id from e2_healthy_pres\")\n",
    "    // False is without replacement, we want with\n",
    "    .sample(false, frac)\n",
    "    .select($\"id\".as(\"id2\"), (rand()*365).as(\"timestamp\").cast(\"int\"))\n",
    "    .join(drug_durations)\n",
    "    .where(\n",
    "        $\"id\" === $\"id2\"\n",
    "        &&\n",
    "        $\"timestamp\" >= $\"treatment_start\"\n",
    "        &&\n",
    "        $\"timestamp\" <= $\"treatment_end\"\n",
    "          )\n",
    "    .drop(\"id2\")\n",
    "    .groupBy(\"id\")\n",
    "    .agg(collect_list($\"drugcode\").as(\"active_drugs\"))\n",
    "//    .withColumn(\"len\", size($\"active_drugs\"))\n",
    "//    .sort(desc(\"len\"))\n",
    "    .show(10)"
   ]
  },
  {
   "cell_type": "code",
   "execution_count": 12,
   "metadata": {
    "scrolled": true
   },
   "outputs": [
    {
     "name": "stdout",
     "output_type": "stream",
     "text": [
      "+--------+----------------+-----------+\n",
      "|database|       tableName|isTemporary|\n",
      "+--------+----------------+-----------+\n",
      "|        |e2_drug_duration|       true|\n",
      "|        |    e2_drugcodes|       true|\n",
      "|        | e2_healthy_pres|       true|\n",
      "|        |     e2_hosp_npr|       true|\n",
      "|        |    e2_hosp_pres|       true|\n",
      "+--------+----------------+-----------+\n",
      "\n",
      "root\n",
      " |-- id: string (nullable = true)\n",
      " |-- drugcode: string (nullable = true)\n",
      " |-- treatment_start: integer (nullable = true)\n",
      " |-- treatment_end: integer (nullable = true)\n",
      "\n",
      "root\n",
      " |-- id: string (nullable = true)\n",
      " |-- birthyear: integer (nullable = true)\n",
      " |-- drugcode: string (nullable = true)\n",
      " |-- diff_utleveringdato: integer (nullable = true)\n",
      " |-- gender: integer (nullable = true)\n",
      "\n"
     ]
    }
   ],
   "source": [
    "spark.sql(\"show tables\").show\n",
    "spark.sql(\"select * from e2_drug_duration\").printSchema\n",
    "spark.sql(\"select * from e2_hosp_pres\").printSchema"
   ]
  },
  {
   "cell_type": "markdown",
   "metadata": {},
   "source": [
    "### Hospitalized patients\n",
    "1. Convert hospitalizations to windows between hospitalizations\n",
    "2. select the N longest windows\n",
    "3. take a point in time X days prior to the hospitalization (10-30 days?)\n",
    "4. Lookup all active drugs at point in time in active drugs dataset"
   ]
  },
  {
   "cell_type": "code",
   "execution_count": 13,
   "metadata": {},
   "outputs": [
    {
     "data": {
      "text/plain": [
       "'\\n\\ndef get_timestamp_from_n_longest_windows(hosp_list, n=1, days_prior=30):\\n    if True:\\n        print(\"DEPRECATED, import from src/python/npr_hospitalization_to_timestamp.py\")\\n        return\\n    tstamps = []\\n    i=0\\n    #-270 is the hard limit for dates in the hospitalized dataset\\n    #pre_first_hosp_end is the timestamp of the first hospitalization of the patient\\n    #Thus we obtain min duration without hospitalization as ..\\n    # diff(-270, first_hospitalization)\\n    pre_first_hosp_start = -270\\n    pre_first_hosp_end = hosp_list[i][0]\\n    duration = pre_first_hosp_end-pre_first_hosp_start\\n    if duration > 2*days_prior:\\n        tstamps.append([pre_first_hosp_end-days_prior, duration])\\n        \\n    while i<(len(hosp_list) - 1):\\n        end = hosp_list[i+1][0]\\n        start = hosp_list[i][1]\\n        duration = end-start\\n        tstamp = end-days_prior\\n        tstamps.append([tstamp, duration])\\n        i+=1\\n    return list(\\n                map(lambda x:[x[0]],\\n                    filter(lambda x: x[1]>days_prior,\\n                           #Sort and take only the N longest windows per patient\\n                           sorted(tstamps, key=lambda x: x[1], reverse=True)[:n])\\n                   )\\n               )\\n'"
      ]
     },
     "execution_count": 13,
     "metadata": {},
     "output_type": "execute_result"
    }
   ],
   "source": [
    "%%python\n",
    "#This function is refactored into the utility file: \n",
    "# src/python/npr_hospitalization_to_timestamp_prior_to_hosp.py\n",
    "#We impose a limitation that the previous hospitalization must be more than \"days_prior\"\n",
    "#days before the timestamp we collect\n",
    "\"\"\"\n",
    "\n",
    "def get_timestamp_from_n_longest_windows(hosp_list, n=1, days_prior=30):\n",
    "    if True:\n",
    "        print(\"DEPRECATED, import from src/python/npr_hospitalization_to_timestamp.py\")\n",
    "        return\n",
    "    tstamps = []\n",
    "    i=0\n",
    "    #-270 is the hard limit for dates in the hospitalized dataset\n",
    "    #pre_first_hosp_end is the timestamp of the first hospitalization of the patient\n",
    "    #Thus we obtain min duration without hospitalization as ..\n",
    "    # diff(-270, first_hospitalization)\n",
    "    pre_first_hosp_start = -270\n",
    "    pre_first_hosp_end = hosp_list[i][0]\n",
    "    duration = pre_first_hosp_end-pre_first_hosp_start\n",
    "    if duration > 2*days_prior:\n",
    "        tstamps.append([pre_first_hosp_end-days_prior, duration])\n",
    "        \n",
    "    while i<(len(hosp_list) - 1):\n",
    "        end = hosp_list[i+1][0]\n",
    "        start = hosp_list[i][1]\n",
    "        duration = end-start\n",
    "        tstamp = end-days_prior\n",
    "        tstamps.append([tstamp, duration])\n",
    "        i+=1\n",
    "    return list(\n",
    "                map(lambda x:[x[0]],\n",
    "                    filter(lambda x: x[1]>days_prior,\n",
    "                           #Sort and take only the N longest windows per patient\n",
    "                           sorted(tstamps, key=lambda x: x[1], reverse=True)[:n])\n",
    "                   )\n",
    "               )\n",
    "\"\"\""
   ]
  },
  {
   "cell_type": "code",
   "execution_count": 14,
   "metadata": {},
   "outputs": [],
   "source": [
    "%%python\n",
    "# Much of the functionality above and below is refactored into helper functions in the following package\n",
    "from src.python.npr_hospitalization_to_timestamp_prior_to_hosp import get_timestamp_from_n_longest_windows"
   ]
  },
  {
   "cell_type": "code",
   "execution_count": null,
   "metadata": {},
   "outputs": [],
   "source": [
    "%%python\n",
    "from pyspark.sql.functions import collect_list, struct\n",
    "#Fetch the list of hospitalizations\n",
    "spark_hospitalization_list = spark.sql(\"\"\"select * from e2_hosp_npr\"\"\")\\\n",
    "    .groupBy(\"id\")\\\n",
    "    .agg(collect_list(struct(\"diffdager_inn\", \"diffdager_ut\")))\n",
    "\n",
    "# Get two fields: ID and hospitalization list created from aggregate above\n",
    "col_labels = spark_hospitalization_list.schema.names\n",
    "spark_hospitalization_list = spark_hospitalization_list\\\n",
    "    .select(col(col_labels[0]),col(col_labels[1]).alias(\"hospitalization_list\"))\n",
    "\n",
    "# Load the lists into pandas\n",
    "singleListOfHospitalizations = spark_hospitalization_list.toPandas()\n",
    "\n",
    "# Sort chronologically\n",
    "lhosp = singleListOfHospitalizations\n",
    "sorter = lambda l: sorted(l, key=lambda tup: tup[1])\n",
    "lhosp[lhosp.columns[1]] = lhosp[lhosp.columns[1]].apply(sorter)\n",
    "print(\"Sorted list of hospitalizations per patient: \")\n",
    "print(lhosp[:10])"
   ]
  },
  {
   "cell_type": "markdown",
   "metadata": {},
   "source": [
    "# From lists of hospitalizations per patient we now take up to 3 hospitalizations per patient"
   ]
  },
  {
   "cell_type": "code",
   "execution_count": null,
   "metadata": {},
   "outputs": [],
   "source": [
    "%%time\n",
    "%%python\n",
    "from pyspark.sql.functions import explode\n",
    "\n",
    "# Apply function to the list of hospitalization\n",
    "# This should return a list of timestamps per-patient\n",
    "windows = (lhosp[lhosp.columns[1]].map(\n",
    "    lambda x: list(\n",
    "        filter(\n",
    "            lambda y: len(y)>0, \n",
    "            get_timestamp_from_n_longest_windows(x, n=3, days_prior = 30)\n",
    "        )\n",
    "    )\n",
    "))\n",
    "\n",
    "ids_with_windows = pd.DataFrame([lhosp[lhosp.columns[0]], windows]).T\n",
    "#print(ids_with_windows[:3])\n",
    "\n",
    "### We \"explode\" the list of hospitalizations, \n",
    "### basically a flatmap where each element\n",
    "### in the list has its own (id, timestamp) row created\n",
    "explodeDf  = spark.createDataFrame(ids_with_windows)\n",
    "\n",
    "\n",
    "explodedDf2 = explodeDf.select(\"id\",explode(\"hospitalization_list\"))\n",
    "explodedDf2.select(\\\n",
    "                   col(\"id\"),\\\n",
    "                   col(\"col\")[0].alias(\"timestamp\")\\\n",
    "                  )\\\n",
    ".persist()\\\n",
    ".createOrReplaceTempView(\"e2_hosp_windows\")\n",
    "\n",
    "print(spark.sql(\"select * from e2_hosp_windows\").count())\n",
    "print(spark.sql(\"select distinct id from e2_hosp_windows\").count())"
   ]
  },
  {
   "cell_type": "code",
   "execution_count": 18,
   "metadata": {},
   "outputs": [
    {
     "name": "stdout",
     "output_type": "stream",
     "text": [
      "NOTE: scala/elders_lookup_active_drugs.scala is deprecated, use python/e2_drug_lookup.py or equivalent instead\n"
     ]
    }
   ],
   "source": [
    "%run src/scala/elders_lookup_active_drugs.scala"
   ]
  },
  {
   "cell_type": "markdown",
   "metadata": {},
   "source": [
    "## Create temp table of all unique healthy patients"
   ]
  },
  {
   "cell_type": "code",
   "execution_count": 19,
   "metadata": {},
   "outputs": [
    {
     "name": "stdout",
     "output_type": "stream",
     "text": [
      "+--------+----------------+-----------+\n",
      "|database|       tableName|isTemporary|\n",
      "+--------+----------------+-----------+\n",
      "|        |e2_drug_duration|       true|\n",
      "|        |    e2_drugcodes|       true|\n",
      "|        |  e2_healthy_pat|       true|\n",
      "|        | e2_healthy_pres|       true|\n",
      "|        |     e2_hosp_npr|       true|\n",
      "|        |    e2_hosp_pres|       true|\n",
      "|        | e2_hosp_windows|       true|\n",
      "+--------+----------------+-----------+\n",
      "\n"
     ]
    }
   ],
   "source": [
    "%%python\n",
    "spark.sql(\"select distinct id from e2_healthy_pres\").createOrReplaceTempView(\"e2_healthy_pat\")\n",
    "spark.sql(\"show tables\").show()"
   ]
  },
  {
   "cell_type": "markdown",
   "metadata": {},
   "source": [
    "# Helper functions and imports for Classifier training\n",
    "_____"
   ]
  },
  {
   "cell_type": "code",
   "execution_count": 20,
   "metadata": {},
   "outputs": [],
   "source": [
    "%%python \n",
    "import mlflow\n",
    "from src.python.e2_drug_lookup import *\n",
    "from sklearn.model_selection import train_test_split\n",
    "from sklearn.metrics import roc_curve, auc\n",
    "import matplotlib.pyplot as plt\n",
    "from src.python.helpers import plotfig_magic"
   ]
  },
  {
   "cell_type": "code",
   "execution_count": 21,
   "metadata": {},
   "outputs": [],
   "source": [
    "%%python\n",
    "def compute_roc(clf, Y_test, X_test):\n",
    "    Y_score = clf.predict_proba(X_test)[:,1].reshape(-1)\n",
    "    Y_truths = Y_test.reshape(-1)\n",
    "    fpr, tpr, thresholds = roc_curve(Y_truths, Y_score, pos_label=1)\n",
    "    return fpr, tpr\n",
    "\n",
    "\n",
    "def log_classifier(clf):\n",
    "    a = clf.coef_.T\n",
    "    b = drugencoder.inverse_transform(np.ones((1,clf.coef_.shape[1])))[0]\n",
    "    l = [t for t in zip(b,a)]\n",
    "    for e in l:\n",
    "        mlflow.log_param(e[0], e[1][0]) \n",
    "\n",
    "    \n",
    "#log_classifier(clf)"
   ]
  },
  {
   "cell_type": "code",
   "execution_count": 22,
   "metadata": {},
   "outputs": [
    {
     "name": "stdout",
     "output_type": "stream",
     "text": [
      "+--------+----------------+-----------+\n",
      "|database|       tableName|isTemporary|\n",
      "+--------+----------------+-----------+\n",
      "|        |e2_drug_duration|       true|\n",
      "|        |    e2_drugcodes|       true|\n",
      "|        |  e2_healthy_pat|       true|\n",
      "|        | e2_healthy_pres|       true|\n",
      "|        |     e2_hosp_npr|       true|\n",
      "|        |    e2_hosp_pres|       true|\n",
      "|        | e2_hosp_windows|       true|\n",
      "+--------+----------------+-----------+\n",
      "\n"
     ]
    }
   ],
   "source": [
    "spark.sql(\"show tables\").show"
   ]
  },
  {
   "cell_type": "code",
   "execution_count": 23,
   "metadata": {},
   "outputs": [
    {
     "name": "stdout",
     "output_type": "stream",
     "text": [
      "2019-05-26 12:12:51 WARN  TaskSetManager:66 - Stage 56 contains a task of very large size (525 KB). The maximum recommended task size is 100 KB.\n",
      "Time: 9.294887781143188 seconds.\n",
      "\n"
     ]
    }
   ],
   "source": [
    "%%time\n",
    "%%python\n",
    "def experiment2_generate_dataset( frac_hosp=0.8, frac_healthy=0.8):\n",
    "    # generate a random sample from the datasets\n",
    "    sample_hosp_df, sample_healthy_df = sample_and_get_drugs_from_both(\n",
    "        spark.sql(\"select * from e2_hosp_windows\")\n",
    "        ,spark.sql(\"select * from e2_healthy_pat\")\n",
    "        ,spark.sql(\"select * from e2_drug_duration\")\n",
    "        ,frac_hosp\n",
    "        ,frac_healthy\n",
    "    )\n",
    "\n",
    "    sample_hosp = sample_hosp_df.collect()\n",
    "    hosp_encoded = drugencoder.transform([d[\"active_drugs\"] for d in sample_hosp])\n",
    "\n",
    "    sample_healthy = sample_healthy_df.collect()\n",
    "    healthy_encoded =  drugencoder.transform([d[\"active_drugs\"] for d in sample_healthy])\n",
    "\n",
    "    healthy_X, healthy_Y = healthy_encoded, np.zeros((healthy_encoded.shape[0], 1))\n",
    "    hosp_X, hosp_Y = hosp_encoded, np.ones((hosp_encoded.shape[0], 1) )\n",
    "    \n",
    "    #Stack training vectors and labels\n",
    "    e2_dset_X = np.vstack((healthy_X, hosp_X ))\n",
    "    e2_dset_Y = np.vstack((healthy_Y, hosp_Y))\n",
    "\n",
    "    X_train, X_test, Y_train, Y_test =\\\n",
    "        train_test_split(e2_dset_X, e2_dset_Y, test_size=0.33)\n",
    "   \n",
    "    return X_train, X_test, Y_train, Y_test\n",
    "if True:\n",
    "    experiment2_generate_dataset()"
   ]
  },
  {
   "cell_type": "code",
   "execution_count": 24,
   "metadata": {},
   "outputs": [],
   "source": [
    "%%python\n",
    "\n",
    "def bootstrap_iteration(dataset, C=1e40, solver=\"liblinear\"):\n",
    "    X_train, X_test, Y_train, Y_test = dataset\n",
    "    clf = LogisticRegression(C=C, solver=solver, n_jobs=4, penalty=\"l2\")\n",
    "    clf.fit(X_train, Y_train)\n",
    "    \n",
    "    metrics = {}\n",
    "    metrics[\"train_accuracy\"] = clf.score(X_train,Y_train)\n",
    "    metrics[\"train_confusion\"] = confusion_matrix(Y_train, clf.predict(X_train))\n",
    "    metrics[\"test_accuracy\"] = clf.score(X_test,Y_test)\n",
    "    metrics[\"test_confusion\"] = confusion_matrix(Y_test, clf.predict(X_test))\n",
    "    metrics[\"model_coefficients\"] = clf.coef_\n",
    "    metrics[\"model_intercept\"] = clf.intercept_\n",
    "    metrics[\"data_train_shape\"] = X_train.shape\n",
    "    metrics[\"data_test_shape\"] = X_test.shape\n",
    "    return clf, X_test, Y_test, metrics"
   ]
  },
  {
   "cell_type": "code",
   "execution_count": 25,
   "metadata": {},
   "outputs": [
    {
     "name": "stdout",
     "output_type": "stream",
     "text": [
      "2019-05-26 12:13:00 WARN  TaskSetManager:66 - Stage 62 contains a task of very large size (525 KB). The maximum recommended task size is 100 KB.\n"
     ]
    }
   ],
   "source": [
    "%%python\n",
    "#Test dataset generation\n",
    "sample = experiment2_generate_dataset(frac_hosp=0.99, frac_healthy=0.99)\n"
   ]
  },
  {
   "cell_type": "code",
   "execution_count": 26,
   "metadata": {},
   "outputs": [
    {
     "name": "stdout",
     "output_type": "stream",
     "text": [
      "[(210300, 949), (103582, 949), (210300, 1), (103582, 1)]\n",
      "training observations\n",
      "210300\n",
      "total indices in training set\n",
      "199574700\n",
      "total number of drugs prescribed\n",
      "833395\n",
      "Sparsity = 0.995824145044437\n",
      "Mean prescriptions per observation = 3.9628863528292917\n",
      "Hospitalized percentage of data = 37.67%\n",
      "28\n",
      "[516, 35505, 36433, 34703, 30056, 23466, 16941, 11837, 7827, 5079, 3182, 1913, 1229, 737, 388, 208, 140, 66, 33, 18, 11, 6, 3, 1, 1, 0, 0, 0, 1]\n"
     ]
    }
   ],
   "source": [
    "%%python\n",
    "print([e.shape for e in sample])\n",
    "# Compute sparsity of the training matrix\n",
    "trainingset = sample[0]\n",
    "total_variables = trainingset.shape[0]*trainingset.shape[1]\n",
    "total_active_drugs = trainingset.sum()\n",
    "print(\"training observations\")\n",
    "print(trainingset.shape[0])\n",
    "print(\"total indices in training set\")\n",
    "print(total_variables)\n",
    "print(\"total number of drugs prescribed\")\n",
    "print(total_active_drugs)\n",
    "\n",
    "\n",
    "density = total_active_drugs/total_variables\n",
    "sparsity = 1.0-density\n",
    "print(\"Sparsity = {0}\".format(sparsity))\n",
    "print(\"Mean prescriptions per observation = {0}\".format(density*trainingset.shape[1]))\n",
    "\n",
    "\n",
    "traininglabels = sample[2]\n",
    "n_hosp = traininglabels.sum()\n",
    "print(\"Hospitalized percentage of data = %.2f\" % (100*n_hosp/trainingset.shape[0]) + \"%\")\n",
    "\n",
    "max_n_active_treatments = np.max(trainingset.sum(axis=1))\n",
    "print(max_n_active_treatments)\n",
    "n_treatment_distribution  =  list(map((lambda i : np.sum(trainingset.sum(axis=1) == i)), range(0,max_n_active_treatments+1)))\n",
    "print(n_treatment_distribution)\n"
   ]
  },
  {
   "cell_type": "code",
   "execution_count": 27,
   "metadata": {},
   "outputs": [
    {
     "data": {
      "image/png": "[encoded data removed]",
      "text/plain": [
       "<IPython.core.display.Image object>"
      ]
     },
     "execution_count": 27,
     "metadata": {},
     "output_type": "execute_result"
    }
   ],
   "source": [
    "%%python\n",
    "plt.clf()\n",
    "left_of_first_bin = -0.5\n",
    "bins = max_n_active_treatments-6\n",
    "right_of_last_bin = bins + 0.5\n",
    "plt.hist( trainingset.sum(axis=1), np.arange(left_of_first_bin,right_of_last_bin, 1),\n",
    "         alpha=0.75, rwidth=0.85\n",
    "        )\n",
    "plt.grid(axis=\"y\")\n",
    "#plt.grid(axis=\"x\")\n",
    "plt.xticks( np.arange(0, bins+1) )\n",
    "plt.xlabel(\"Number of active treatments in observation\")\n",
    "plt.ylabel(\"Number of Observations\")\n",
    "plt.title(\n",
    "    \"Observed active treatments in training dataset - {:,} observations\".format(\n",
    "        int(trainingset.shape[0])\n",
    "        )\n",
    "    )\n",
    "retval = plotfig_magic()\n"
   ]
  },
  {
   "cell_type": "markdown",
   "metadata": {},
   "source": [
    "# Setup variables for experiment"
   ]
  },
  {
   "cell_type": "code",
   "execution_count": 28,
   "metadata": {},
   "outputs": [],
   "source": [
    "%%python\n",
    "import time\n",
    "import datetime\n",
    "import os\n",
    "\n",
    "metrics_savedir = \"spark-warehouse/numpy/e2/runs/FINAL/\"\n",
    "bootstrap_samples = 2000\n",
    "\n",
    "if not os.path.exists(metrics_savedir):\n",
    "    try:\n",
    "        os.mkdir(metrics_savedir)\n",
    "        print(\"made directory:\", metrics_savedir)\n",
    "    except OSError as e:\n",
    "        if e.errno != errno.EEXIST:\n",
    "            raise\n"
   ]
  },
  {
   "cell_type": "code",
   "execution_count": 29,
   "metadata": {},
   "outputs": [],
   "source": [
    "%%python\n",
    "X_train, X_test, Y_train, Y_test = sample\n",
    "X_train.shape"
   ]
  },
  {
   "cell_type": "markdown",
   "metadata": {},
   "source": [
    "# Run the bootstrap logistic regressions\n",
    "* The metrics and models are stored at the metrics_savedir path\n",
    "## Note: Output is omitted because it contained 2000 lines of status messages."
   ]
  },
  {
   "cell_type": "code",
   "execution_count": null,
   "metadata": {
    "scrolled": true
   },
   "outputs": [],
   "source": [
    "%%python\n",
    "\n",
    "start_time = datetime.datetime.now()\n",
    "np.save(metrics_savedir+\"encoder\", drugencoder)\n",
    "\n",
    "i=0\n",
    "est_single_iter = None\n",
    "with open(metrics_savedir+\"runs.csv\", \"w\") as f:\n",
    "        f.writelines(\n",
    "            [\"run;runtime;\\n\"]\n",
    "        )\n",
    "while i<bootstrap_samples:      \n",
    "    print(\"run {0} of {1}\".format(i+1, bootstrap_samples))\n",
    "    iter_start_time = datetime.datetime.now()\n",
    "    sample = experiment2_generate_dataset(frac_hosp=0.99, frac_healthy=0.99)\n",
    "    clf, X_test, Y_test, metrics = bootstrap_iteration(sample)\n",
    "\n",
    "    fpr, tpr = compute_roc(clf, Y_test, X_test)\n",
    "    metrics[\"concordance\"] = {}\n",
    "    metrics[\"concordance\"][\"fpr\"]=fpr \n",
    "    metrics[\"concordance\"][\"tpr\"]=tpr\n",
    "    np.save(metrics_savedir+str(i), metrics)\n",
    "    \n",
    "    #Write status of run (Notebook may be closed if the code is run in tmux)\n",
    "    with open(metrics_savedir+\"_BootstrapStatus.txt\", \"w\") as f:\n",
    "        curr_time = datetime.datetime.now()\n",
    "        f.writelines(\n",
    "            [\n",
    "                \"Start_time:\"+str(start_time)+\"\\n\",\n",
    "                \"Current_time:\"+str(curr_time)+\"\\n\",\n",
    "                \"Total_runtime:\"+str(curr_time-start_time)+\"\\n\",\n",
    "                \"Current_run: \"+str(i)+\"\\n\",\n",
    "                \"Current_run_runtime_seconds:\"+str(curr_time.timestamp()-iter_start_time.timestamp()),\n",
    "                \"Target_runs:\"+str(bootstrap_samples)+\"\\n\"\n",
    "            ]\n",
    "        )\n",
    "        if est_single_iter == None:\n",
    "            est_single_iter = curr_time-start_time\n",
    "        est_eta = est_single_iter*(bootstrap_samples-i)\n",
    "        f.write(\"ETA:\"+str(est_eta)+\"\\n\")\n",
    "        f.write(\"EET:\"+str(curr_time+est_eta)+\"\\n\")\n",
    "        \n",
    "    with open(metrics_savedir+\"runs.csv\", \"a\") as f:\n",
    "        f.writelines(\n",
    "            [\"{0};{1:.2f}\\n\".format(i, curr_time.timestamp()-iter_start_time.timestamp())]\n",
    "        )\n",
    "    i+=1\n",
    "\n",
    "\n",
    "end = time.time()\n",
    "with open(metrics_savedir+\"_BootstrapSuccess.txt\", \"w\") as f:\n",
    "        end_time = datetime.datetime.now()\n",
    "        f.writelines(\n",
    "            [\n",
    "                \"Start_time:\"+str(start_time)+\"\\n\",\n",
    "                \"End_time:\"+str(end_time)+\"\\n\",\n",
    "                \"Total_runtime:\"+str(end_time-start_time)+\"\\n\",\n",
    "                \"Current_run: \"+str(i)+\"\\n\",\n",
    "                \"Target_runs:\"+str(bootstrap_samples)+\"\\n\"\n",
    "            ]\n",
    "        )\n",
    "print(\"finished in..\")\n",
    "print(end_time-start_time)"
   ]
  },
  {
   "cell_type": "code",
   "execution_count": 31,
   "metadata": {},
   "outputs": [
    {
     "name": "stdout",
     "output_type": "stream",
     "text": [
      "2019-05-27 03:19:57 WARN  TaskSetManager:66 - Stage 12068 contains a task of very large size (525 KB). The maximum recommended task size is 100 KB.\n",
      "Total samples\n",
      "103600\n",
      "Hospitalized samples\n",
      "39209.0\n",
      "Unhospitalized samples\n",
      "64391.0\n",
      "----\n"
     ]
    }
   ],
   "source": [
    "%%python\n",
    "sample = experiment2_generate_dataset(frac_hosp=0.99, frac_healthy=0.99)\n",
    "X_train, X_test, Y_train, Y_test = sample\n",
    "print(\"Total samples\")\n",
    "print(Y_test.shape[0])\n",
    "print(\"Hospitalized samples\")\n",
    "print(Y_test.sum())\n",
    "print(\"Unhospitalized samples\")\n",
    "print(Y_test.shape[0]-Y_test.sum())\n",
    "print(\"----\")"
   ]
  },
  {
   "cell_type": "markdown",
   "metadata": {},
   "source": [
    "# Bootstrap sampling time"
   ]
  },
  {
   "cell_type": "code",
   "execution_count": 40,
   "metadata": {},
   "outputs": [
    {
     "name": "stdout",
     "output_type": "stream",
     "text": [
      "2019-05-27 16:15:52 WARN  TaskSetManager:66 - Stage 12099 contains a task of very large size (525 KB). The maximum recommended task size is 100 KB.\n",
      "Time: 8.998230457305908 seconds.\n",
      "\n"
     ]
    }
   ],
   "source": [
    "%%time\n",
    "%%python\n",
    "dataset = experiment2_generate_dataset( frac_hosp = 0.99, frac_healthy = 0.99)"
   ]
  },
  {
   "cell_type": "markdown",
   "metadata": {},
   "source": [
    "# Logistic regression training time"
   ]
  },
  {
   "cell_type": "code",
   "execution_count": 44,
   "metadata": {},
   "outputs": [
    {
     "name": "stdout",
     "output_type": "stream",
     "text": [
      "Time: 19.695088624954224 seconds.\n",
      "\n"
     ]
    }
   ],
   "source": [
    "%%time\n",
    "%%python\n",
    "def time_logreg(dataset, C=1e40, solver=\"liblinear\"):\n",
    "    X_train, X_test, Y_train, Y_test = dataset\n",
    "    clf = LogisticRegression(C=C, solver=solver, n_jobs=4, penalty=\"l2\")\n",
    "    clf.fit(X_train, Y_train)\n",
    "time_logreg(dataset)\n"
   ]
  },
  {
   "cell_type": "markdown",
   "metadata": {},
   "source": [
    "# Total time"
   ]
  },
  {
   "cell_type": "code",
   "execution_count": 32,
   "metadata": {},
   "outputs": [
    {
     "name": "stdout",
     "output_type": "stream",
     "text": [
      "2019-05-27 03:20:05 WARN  TaskSetManager:66 - Stage 12074 contains a task of very large size (525 KB). The maximum recommended task size is 100 KB.\n",
      "Time: 29.625468015670776 seconds.\n",
      "\n"
     ]
    }
   ],
   "source": [
    "%%time\n",
    "%%python\n",
    "dataset = experiment2_generate_dataset( frac_hosp = 0.99, frac_healthy = 0.99)\n",
    "clf, X_test, Y_test, metrics = bootstrap_iteration(dataset)"
   ]
  },
  {
   "cell_type": "code",
   "execution_count": 45,
   "metadata": {},
   "outputs": [
    {
     "name": "stdout",
     "output_type": "stream",
     "text": [
      "0.7307726800961463\n"
     ]
    },
    {
     "data": {
      "image/png": "[encoded data removed]",
      "text/plain": [
       "<IPython.core.display.Image object>"
      ]
     },
     "execution_count": 45,
     "metadata": {},
     "output_type": "execute_result"
    }
   ],
   "source": [
    "%%python\n",
    "fpr, tpr = compute_roc(clf, Y_test, X_test)\n",
    "roc_auc = auc(fpr, tpr)\n",
    "print(roc_auc)\n",
    "\n",
    "plt.clf()\n",
    "plt.xlim([0, 1])\n",
    "plt.ylim([0, 1])\n",
    "plt.plot(fpr, tpr, color=\"lightgreen\")\n",
    "plt.plot([0,1],[0,1], linestyle=\":\", color=\"black\")\n",
    "plt.xlabel(\"FP\")\n",
    "plt.ylabel(\"TP\")\n",
    "retval = plotfig_magic()"
   ]
  },
  {
   "cell_type": "code",
   "execution_count": 34,
   "metadata": {},
   "outputs": [
    {
     "name": "stdout",
     "output_type": "stream",
     "text": [
      "2019-05-27 03:20:35 WARN  TaskSetManager:66 - Stage 12080 contains a task of very large size (525 KB). The maximum recommended task size is 100 KB.\n",
      "In-sample mean training accuracy\n",
      "0.7071096710041317\n",
      "Confusion matrix\n",
      "[[93379 12206]\n",
      " [39046 30356]]\n",
      "Test set mean training accuracy\n",
      "0.7043590249335762\n",
      "Confusion matrix\n",
      "[[45621  6160]\n",
      " [19321 15087]]\n",
      "Time: 22.119540452957153 seconds.\n",
      "\n"
     ]
    }
   ],
   "source": [
    "%%time\n",
    "%%python\n",
    "from sklearn.metrics import confusion_matrix\n",
    "from sklearn.linear_model import LogisticRegression\n",
    "\n",
    "X_train, X_test, Y_train, Y_test = experiment2_generate_dataset()\n",
    "\n",
    "\n",
    "\n",
    "clf = LogisticRegression(C=1e7)\n",
    "clf.fit(X_train, Y_train)\n",
    "\n",
    "print(\"In-sample mean training accuracy\")\n",
    "print(clf.score(X_train,Y_train))\n",
    "print(\"Confusion matrix\")\n",
    "print(confusion_matrix(Y_train, clf.predict(X_train)))\n",
    "print(\"Test set mean training accuracy\")\n",
    "print(clf.score(X_test,Y_test))\n",
    "print(\"Confusion matrix\")\n",
    "print(confusion_matrix(Y_test, clf.predict(X_test)))\n",
    "\n",
    "\n",
    "#model_params.append(clf.coef_)\n",
    "#model_intercepts.append(clf.intercept_)\n",
    "\n"
   ]
  },
  {
   "cell_type": "code",
   "execution_count": 35,
   "metadata": {},
   "outputs": [
    {
     "name": "stdout",
     "output_type": "stream",
     "text": [
      "[[0.7944149  0.2055851 ]\n",
      " [0.73902961 0.26097039]\n",
      " [0.77396895 0.22603105]\n",
      " [0.7122187  0.2877813 ]\n",
      " [0.79794542 0.20205458]\n",
      " [0.81329486 0.18670514]\n",
      " [0.73705469 0.26294531]]\n",
      "[0.2055851]\n"
     ]
    }
   ],
   "source": [
    "%%python\n",
    "print(clf.predict_proba(X_test[1303:1310]))\n",
    "def sigmoid(x):\n",
    "    return (1 / (1 + np.exp(-x)))\n",
    "print(sigmoid(np.multiply(clf.coef_,X_test[1303:1304]).sum()+clf.intercept_))"
   ]
  },
  {
   "cell_type": "markdown",
   "metadata": {},
   "source": [
    "### Example of repeated random number draws"
   ]
  },
  {
   "cell_type": "code",
   "execution_count": null,
   "metadata": {},
   "outputs": [],
   "source": [
    "val tdf = spark.range(100).toDF\n",
    "val selection = tdf.select($\"id\", (rand()*365))\n",
    "selection\n",
    "    .unionAll(tdf.select($\"id\", (rand()*365)))\n",
    "    .unionAll(tdf.select($\"id\", (rand()*365)))\n",
    "    .sort(asc(\"id\")).show"
   ]
  },
  {
   "cell_type": "markdown",
   "metadata": {},
   "source": [
    "# ROC / AUC of 1 bootstrap logistic regression model"
   ]
  },
  {
   "cell_type": "code",
   "execution_count": 37,
   "metadata": {},
   "outputs": [
    {
     "name": "stdout",
     "output_type": "stream",
     "text": [
      "2019-05-27 03:20:58 WARN  TaskSetManager:66 - Stage 12087 contains a task of very large size (525 KB). The maximum recommended task size is 100 KB.\n",
      "0.7326584018997117\n"
     ]
    },
    {
     "data": {
      "image/png": "[encoded data removed]",
      "text/plain": [
       "<IPython.core.display.Image object>"
      ]
     },
     "execution_count": 37,
     "metadata": {},
     "output_type": "execute_result"
    }
   ],
   "source": [
    "%%python\n",
    "sample = experiment2_generate_dataset(frac_hosp=0.99, frac_healthy=0.99)\n",
    "#print(sample)\n",
    "clf, X_test, Y_test, metrics = bootstrap_iteration(sample)\n",
    "fpr, tpr = compute_roc(clf, Y_test, X_test)\n",
    "roc_auc = auc(fpr, tpr)\n",
    "print(roc_auc)\n",
    "\n",
    "plt.clf()\n",
    "plt.xlim([0, 1])\n",
    "plt.ylim([0, 1])\n",
    "plt.plot(fpr, tpr, color=\"blue\")\n",
    "plt.plot([0,1],[0,1], linestyle=\":\", color=\"black\")\n",
    "plt.title(\"ROC Curve, Logistic regression with 5-level ATC, AUC={0:.3f}\".format(roc_auc))\n",
    "plt.xlabel(\"False Positive Rate\")\n",
    "plt.ylabel(\"True Positive Rate\")\n",
    "plt.savefig(\"plots/ml_alg2_auc.pdf\")\n",
    "retval = plotfig_magic()"
   ]
  },
  {
   "cell_type": "code",
   "execution_count": 38,
   "metadata": {},
   "outputs": [
    {
     "name": "stdout",
     "output_type": "stream",
     "text": [
      "[(210356, 949), (103609, 949), (210356, 1), (103609, 1)]\n",
      "0.3775837152256175\n",
      "0.3787508807149958\n"
     ]
    }
   ],
   "source": [
    "%%python\n",
    "print([s.shape for s in sample])\n",
    "print(sample[2].sum()/sample[2].shape[0])\n",
    "print(sample[3].sum()/sample[3].shape[0])"
   ]
  },
  {
   "cell_type": "markdown",
   "metadata": {},
   "source": [
    "# Time taken for 1 bootstrap iteration with sampling"
   ]
  },
  {
   "cell_type": "code",
   "execution_count": 39,
   "metadata": {},
   "outputs": [
    {
     "name": "stdout",
     "output_type": "stream",
     "text": [
      "2019-05-27 03:21:19 WARN  TaskSetManager:66 - Stage 12093 contains a task of very large size (525 KB). The maximum recommended task size is 100 KB.\n",
      "Time: 28.083719968795776 seconds.\n",
      "\n"
     ]
    }
   ],
   "source": [
    "%%time\n",
    "%%python\n",
    "sample = experiment2_generate_dataset(frac_hosp=0.99, frac_healthy=0.99)\n",
    "clf, X_test, Y_test, metrics = bootstrap_iteration(sample)\n",
    "\n",
    "fpr, tpr = compute_roc(clf, Y_test, X_test)"
   ]
  }
 ],
 "metadata": {
  "kernelspec": {
   "display_name": "spylon-kernel",
   "language": "scala",
   "name": "spylon-kernel"
  },
  "language_info": {
   "codemirror_mode": "text/x-scala",
   "file_extension": ".scala",
   "help_links": [
    {
     "text": "MetaKernel Magics",
     "url": "https://github.com/calysto/metakernel/blob/master/metakernel/magics/README.md"
    }
   ],
   "mimetype": "text/x-scala",
   "name": "scala",
   "pygments_lexer": "scala",
   "version": "0.4.1"
  }
 },
 "nbformat": 4,
 "nbformat_minor": 2
}
