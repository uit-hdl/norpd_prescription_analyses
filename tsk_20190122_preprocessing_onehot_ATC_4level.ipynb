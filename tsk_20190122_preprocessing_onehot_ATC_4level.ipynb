{
 "cells": [
  {
   "cell_type": "code",
   "execution_count": 4,
   "metadata": {},
   "outputs": [
    {
     "data": {
      "text/plain": [
       "Intitializing Scala interpreter ..."
      ]
     },
     "metadata": {},
     "output_type": "display_data"
    },
    {
     "data": {
      "text/plain": [
       "Spark Web UI available at http://localhost:4040\n",
       "SparkContext available as 'sc' (version = 2.3.2, master = local[*], app id = local-1548760883140)\n",
       "SparkSession available as 'spark'\n"
      ]
     },
     "metadata": {},
     "output_type": "display_data"
    },
    {
     "data": {
      "text/plain": [
       "res0: org.apache.spark.sql.SparkSession = org.apache.spark.sql.SparkSession@10382a9b\n"
      ]
     },
     "execution_count": 4,
     "metadata": {},
     "output_type": "execute_result"
    }
   ],
   "source": [
    "spark"
   ]
  },
  {
   "cell_type": "code",
   "execution_count": 5,
   "metadata": {},
   "outputs": [],
   "source": [
    "%run \"src/scala/register_tables.scala\""
   ]
  },
  {
   "cell_type": "code",
   "execution_count": 6,
   "metadata": {},
   "outputs": [],
   "source": [
    "%%python\n",
    "import matplotlib.pyplot as plt\n",
    "from src.python.helpers import plotfig_magic\n",
    "import pandas as pd\n",
    "import numpy as np\n",
    "from IPython.display import Image\n",
    "import tempfile"
   ]
  },
  {
   "cell_type": "code",
   "execution_count": 7,
   "metadata": {},
   "outputs": [
    {
     "data": {
      "text/plain": [
       "import org.apache.spark.mllib\n",
       "import org.apache.spark.sql.functions\n",
       "import org.apache.spark.sql.SparkSession\n",
       "import spark.implicits._\n"
      ]
     },
     "execution_count": 7,
     "metadata": {},
     "output_type": "execute_result"
    }
   ],
   "source": [
    "import org.apache.spark.mllib\n",
    "import org.apache.spark.sql.functions\n",
    "import org.apache.spark.sql.SparkSession\n",
    "import spark.implicits._"
   ]
  },
  {
   "cell_type": "code",
   "execution_count": 8,
   "metadata": {},
   "outputs": [
    {
     "name": "stdout",
     "output_type": "stream",
     "text": [
      "===Prescription dataset===\n",
      "registering patients\n",
      "registering prescriptions\n",
      "registering drugs\n",
      "ok!\n",
      "===Hospitalization dataset===\n",
      "registering raw\n",
      "registering patients\n",
      "registering prescriptions\n",
      "registering drugs\n",
      "ok!\n",
      "+--------+-----------------------------+-----------+\n",
      "|database|tableName                    |isTemporary|\n",
      "+--------+-----------------------------+-----------+\n",
      "|        |hospitalization              |true       |\n",
      "|        |hospitalization_drugs        |true       |\n",
      "|        |hospitalization_patients     |true       |\n",
      "|        |hospitalization_prescriptions|true       |\n",
      "|        |prescription_drugs           |true       |\n",
      "|        |prescription_patients        |true       |\n",
      "|        |prescription_prescriptions   |true       |\n",
      "+--------+-----------------------------+-----------+\n",
      "\n",
      "done!\n"
     ]
    }
   ],
   "source": [
    "register_tables(spark,\"spark-warehouse/\")"
   ]
  },
  {
   "cell_type": "markdown",
   "metadata": {},
   "source": [
    "### Transformation from 5 to 4-level ATC codes"
   ]
  },
  {
   "cell_type": "code",
   "execution_count": 9,
   "metadata": {},
   "outputs": [
    {
     "name": "stdout",
     "output_type": "stream",
     "text": [
      "+-----+------+\n",
      "|   4L| count|\n",
      "+-----+------+\n",
      "|D06BX| 17413|\n",
      "|N01BX|  2578|\n",
      "|A02BX|  4026|\n",
      "|QG03D|     7|\n",
      "|V03AH|    22|\n",
      "|N02AJ|999220|\n",
      "|N04BA|241991|\n",
      "|V04CL|    87|\n",
      "|J01DH|   129|\n",
      "|L02AA|     2|\n",
      "|M05BB|  4682|\n",
      "|G01AA|  4780|\n",
      "|A06AD| 67895|\n",
      "|A02BB|   780|\n",
      "|G03DC|   218|\n",
      "|L01XE| 10951|\n",
      "|G04CA|458263|\n",
      "|C07AA|163041|\n",
      "|C09BB|  9282|\n",
      "|A10AB| 85470|\n",
      "+-----+------+\n",
      "only showing top 20 rows\n",
      "\n"
     ]
    },
    {
     "data": {
      "text/plain": [
       "take4levelsUDF: org.apache.spark.sql.expressions.UserDefinedFunction = UserDefinedFunction(<function1>,StringType,Some(List(StringType)))\n",
       "df: org.apache.spark.sql.DataFrame = [drugcode: string]\n",
       "df_4levels: org.apache.spark.sql.DataFrame = [4L: string, count: bigint]\n"
      ]
     },
     "execution_count": 9,
     "metadata": {},
     "output_type": "execute_result"
    }
   ],
   "source": [
    "//UDFs for transformation from 5-level to 4-level ATC codes\n",
    "val take4levelsUDF = udf( (x:String)=>x.slice(0,5) )\n",
    "\n",
    "val df = spark.sql(\"select drugcode from hospitalization_prescriptions\")\n",
    "\n",
    "val df_4levels = df.select(take4levelsUDF(col(\"drugcode\")).as(\"4L\")).groupBy(\"4L\").count\n",
    "df_4levels.show\n",
    "df_4levels.count\n",
    "df_4levels.createOrReplaceTempView(\"ATC_4L\")"
   ]
  },
  {
   "cell_type": "markdown",
   "metadata": {},
   "source": [
    "___ \n",
    "Our columns sum to 61.9M prescriptions (correct)"
   ]
  },
  {
   "cell_type": "code",
   "execution_count": 10,
   "metadata": {},
   "outputs": [
    {
     "name": "stdout",
     "output_type": "stream",
     "text": [
      "+----------+\n",
      "|sum(count)|\n",
      "+----------+\n",
      "|  61925946|\n",
      "+----------+\n",
      "\n"
     ]
    }
   ],
   "source": [
    "df_4levels.select(sum(\"count\")).show"
   ]
  },
  {
   "cell_type": "code",
   "execution_count": 11,
   "metadata": {},
   "outputs": [
    {
     "name": "stdout",
     "output_type": "stream",
     "text": [
      "(216, 2)\n"
     ]
    }
   ],
   "source": [
    "%%python\n",
    "atc_4l = spark.sql(\"select * from ATC_4L where count>10000\").toPandas()\n",
    "print(atc_4l.shape)"
   ]
  },
  {
   "cell_type": "code",
   "execution_count": 12,
   "metadata": {},
   "outputs": [
    {
     "data": {
      "image/png": "[encoded data removed]",
      "text/plain": [
       "<IPython.core.display.Image object>"
      ]
     },
     "execution_count": 12,
     "metadata": {},
     "output_type": "execute_result"
    }
   ],
   "source": [
    "%%python\n",
    "from src.python.helpers import plotfig_magic\n",
    "\n",
    "atc_4l_sorted = atc_4l.sort_values(by=[\"count\"], ascending=False)\n",
    "atc_4l_sorted[\"col_idx\"] = np.arange(0,atc_4l.shape[0])\n",
    "#print(atc_4l_sorted[:20])\n",
    "atc_4l_sorted.plot(x=\"col_idx\",y=\"count\")\n",
    "retval = plotfig_magic()"
   ]
  },
  {
   "cell_type": "markdown",
   "metadata": {},
   "source": [
    "# Encoding schemes\n",
    "___"
   ]
  },
  {
   "cell_type": "markdown",
   "metadata": {},
   "source": [
    "## One-Hot encoding of the 4L ATC codes\n",
    "* We observe that taking 4 levels of the ATC hierarchy, and ignoring drugs that are prescribed less than 10000 times we get  _216_ unique 4-level drug codes\n",
    "* Let's try to onehot encode these into a vector format using SPARK"
   ]
  },
  {
   "cell_type": "code",
   "execution_count": 36,
   "metadata": {},
   "outputs": [
    {
     "data": {
      "text/plain": [
       "import org.apache.spark.ml.feature.{OneHotEncoder, StringIndexer}\n",
       "df: org.apache.spark.sql.Dataset[org.apache.spark.sql.Row] = [4L: string, count: bigint]\n",
       "res24: Long = 216\n"
      ]
     },
     "execution_count": 36,
     "metadata": {},
     "output_type": "execute_result"
    }
   ],
   "source": [
    "import org.apache.spark.ml.feature.{OneHotEncoder, StringIndexer}\n",
    "val df = spark.sql(\"select * from ATC_4L where count>10000\").sort(asc(\"4L\"))\n",
    "df.count"
   ]
  },
  {
   "cell_type": "code",
   "execution_count": 37,
   "metadata": {},
   "outputs": [
    {
     "data": {
      "text/plain": [
       "indexer: org.apache.spark.ml.feature.StringIndexerModel = strIdx_391d399ae1f4\n",
       "indexed: org.apache.spark.sql.DataFrame = [4L: string, count: bigint ... 1 more field]\n",
       "encoder: org.apache.spark.ml.feature.OneHotEncoder = oneHot_aee8bace84d6\n",
       "encoded: org.apache.spark.sql.DataFrame = [4L: string, count: bigint ... 2 more fields]\n"
      ]
     },
     "execution_count": 37,
     "metadata": {},
     "output_type": "execute_result"
    }
   ],
   "source": [
    "//first we index the drugcodes\n",
    "val indexer = new StringIndexer()\n",
    "    .setInputCol(\"4L\")\n",
    "    .setOutputCol(\"4L_index\")\n",
    "    .fit(df)\n",
    "val indexed = indexer.transform(df)\n",
    "\n",
    "val encoder = new OneHotEncoder()\n",
    "    .setInputCol(\"4L_index\")\n",
    "    .setOutputCol(\"4L_vec\")\n",
    "\n",
    "val encoded = encoder.transform(indexed)\n",
    "\n"
   ]
  },
  {
   "cell_type": "markdown",
   "metadata": {},
   "source": [
    "### Test how the encoder works"
   ]
  },
  {
   "cell_type": "code",
   "execution_count": 40,
   "metadata": {},
   "outputs": [
    {
     "name": "stdout",
     "output_type": "stream",
     "text": [
      "+-----+-------+--------+\n",
      "|   4L|  count|4L_index|\n",
      "+-----+-------+--------+\n",
      "|A01AA|  30957|    18.0|\n",
      "|A02AC|  11296|    46.0|\n",
      "|A02AH|  34950|    54.0|\n",
      "|A02BA| 201880|   145.0|\n",
      "|A02BC|2037024|    21.0|\n",
      "|A03AX|  19694|   157.0|\n",
      "|A03FA| 143658|   129.0|\n",
      "|A04AA|  35808|    43.0|\n",
      "|A04AD|  10902|   215.0|\n",
      "|A05AA|  11253|   127.0|\n",
      "|A06AB| 162623|   131.0|\n",
      "|A06AD|  67895|    92.0|\n",
      "|A06AG|  11851|   151.0|\n",
      "|A07AA|  45337|   106.0|\n",
      "|A07DA|  79811|    61.0|\n",
      "|A07EA|  17165|   183.0|\n",
      "|A07EC|  78593|   108.0|\n",
      "|A08AB|  14421|   146.0|\n",
      "|A09AA|  48879|     4.0|\n",
      "|A10AB|  85470|    37.0|\n",
      "+-----+-------+--------+\n",
      "only showing top 20 rows\n",
      "\n"
     ]
    }
   ],
   "source": [
    "indexed.sort(asc(\"4L\")).show"
   ]
  },
  {
   "cell_type": "code",
   "execution_count": 15,
   "metadata": {},
   "outputs": [
    {
     "data": {
      "text/plain": [
       "import org.apache.spark.sql.SaveMode\n"
      ]
     },
     "execution_count": 15,
     "metadata": {},
     "output_type": "execute_result"
    }
   ],
   "source": [
    "import org.apache.spark.sql.SaveMode\n",
    "encoded.select(\"*\")\n",
    "    .repartition(1).write\n",
    "    .mode(SaveMode.Overwrite)\n",
    "    .json(\n",
    "        \"spark-warehouse/preprocessing/TEST1HOTENCODEDSPARK\"     \n",
    "         )"
   ]
  },
  {
   "cell_type": "code",
   "execution_count": 16,
   "metadata": {},
   "outputs": [
    {
     "name": "stdout",
     "output_type": "stream",
     "text": [
      "+-----+------+--------+-----------------+\n",
      "|4L   |count |4L_index|4L_vec           |\n",
      "+-----+------+--------+-----------------+\n",
      "|D06BX|17413 |60.0    |(215,[60],[1.0]) |\n",
      "|N02AJ|999220|153.0   |(215,[153],[1.0])|\n",
      "|N04BA|241991|67.0    |(215,[67],[1.0]) |\n",
      "|A06AD|67895 |92.0    |(215,[92],[1.0]) |\n",
      "|L01XE|10951 |104.0   |(215,[104],[1.0])|\n",
      "+-----+------+--------+-----------------+\n",
      "only showing top 5 rows\n",
      "\n"
     ]
    }
   ],
   "source": [
    "encoded.show(5,false)\n",
    "encoded.select(\"4L\", \"4L_vec\").createOrReplaceTempView(\"encoded\")"
   ]
  },
  {
   "cell_type": "code",
   "execution_count": 17,
   "metadata": {},
   "outputs": [],
   "source": [
    "%%python\n",
    "df = spark.sql(\"select * from encoded\").toPandas()"
   ]
  },
  {
   "cell_type": "code",
   "execution_count": 18,
   "metadata": {},
   "outputs": [
    {
     "name": "stdout",
     "output_type": "stream",
     "text": [
      "      4L                                             4L_vec\n",
      "0  D06BX  (0.0, 0.0, 0.0, 0.0, 0.0, 0.0, 0.0, 0.0, 0.0, ...\n",
      "1  N02AJ  (0.0, 0.0, 0.0, 0.0, 0.0, 0.0, 0.0, 0.0, 0.0, ...\n",
      "2  N04BA  (0.0, 0.0, 0.0, 0.0, 0.0, 0.0, 0.0, 0.0, 0.0, ...\n",
      "3  A06AD  (0.0, 0.0, 0.0, 0.0, 0.0, 0.0, 0.0, 0.0, 0.0, ...\n",
      "4  L01XE  (0.0, 0.0, 0.0, 0.0, 0.0, 0.0, 0.0, 0.0, 0.0, ...\n",
      "5  G04CA  (0.0, 0.0, 0.0, 0.0, 0.0, 0.0, 0.0, 0.0, 0.0, ...\n",
      "6  C07AA  (0.0, 0.0, 0.0, 0.0, 0.0, 0.0, 0.0, 0.0, 0.0, ...\n",
      "7  A10AB  (0.0, 0.0, 0.0, 0.0, 0.0, 0.0, 0.0, 0.0, 0.0, ...\n",
      "8  N06AX  (0.0, 0.0, 0.0, 0.0, 0.0, 0.0, 0.0, 0.0, 0.0, ...\n",
      "9  A06AB  (0.0, 0.0, 0.0, 0.0, 0.0, 0.0, 0.0, 0.0, 0.0, ...\n"
     ]
    }
   ],
   "source": [
    "%python print(df[:10])"
   ]
  },
  {
   "cell_type": "code",
   "execution_count": null,
   "metadata": {},
   "outputs": [],
   "source": [
    "%python "
   ]
  }
 ],
 "metadata": {
  "kernelspec": {
   "display_name": "spylon-kernel",
   "language": "scala",
   "name": "spylon-kernel"
  },
  "language_info": {
   "codemirror_mode": "text/x-scala",
   "file_extension": ".scala",
   "help_links": [
    {
     "text": "MetaKernel Magics",
     "url": "https://github.com/calysto/metakernel/blob/master/metakernel/magics/README.md"
    }
   ],
   "mimetype": "text/x-scala",
   "name": "scala",
   "pygments_lexer": "scala",
   "version": "0.4.1"
  }
 },
 "nbformat": 4,
 "nbformat_minor": 2
}
